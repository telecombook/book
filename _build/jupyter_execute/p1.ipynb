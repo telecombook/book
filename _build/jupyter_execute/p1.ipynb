{
 "cells": [
  {
   "cell_type": "markdown",
   "metadata": {},
   "source": [
    "# Chapter 1: Probability Theory"
   ]
  },
  {
   "cell_type": "markdown",
   "metadata": {},
   "source": [
    "```{admonition} References\n",
    "- **[B1]** J. Proakis and M. Salehi, **Digital Communications**, 5th ed. New York, NY: McGraw-Hill Professional, 2007. ISBN: 0072957166, Chapter 2\n",
    "- **[B2]** S. Haykin, **Digital Communication Systems**, 1st ed. Nashville, TN: John Wiley & Sons, 2013. ISBN: 0471647357, Chapter 3\n",
    "- **[B3]** P. Z. Peebles Jr, **Probability, Random Variables, and Random Signal Principles**, 4th ed. London, England: McGraw-Hill Publishing, 2000. ISBN: 0073660078, Chapter 2\n",
    "```"
   ]
  },
  {
   "cell_type": "markdown",
   "metadata": {},
   "source": [
    "### Axioms of Probability\n",
    "\n",
    "The probability measure $ \\Pr(A) $, assigned to event $ A $, is governed by three axioms:\n",
    "\n",
    "#### Axiom I: Nonnegativity\n",
    "**Theorem:** For any event $ A $, $ \\Pr(A) \\geq 0 $.\n",
    "\n",
    "The probability of event $ A $ is a nonnegative number bounded by unity.\n",
    "\n",
    "#### Axiom II: Normalization\n",
    "**Theorem:** If $ \\mathbb{S} $ is the sample space for a given experiment, $ \\Pr(\\mathbb{S}) = 1 $ (probabilities are normalized so that the maximum value is unity).\n",
    "\n",
    "The probability of the entire sample space $ \\mathbb{S} $ is equal to unity.\n",
    "\n",
    "#### Axiom III: Additivity\n",
    "**Theorem:** If $ A \\cap B = \\varnothing $, then $ \\Pr(A \\cup B) = \\Pr(A) + \\Pr(B) $.\n",
    "\n",
    "If $ A $ and $ B $ are two disjoint events (mutually exclusive sets), then the probability of their union satisfies the equality $ \\Pr(A \\cup B) = \\Pr(A) + \\Pr(B) $.\n"
   ]
  },
  {
   "cell_type": "markdown",
   "metadata": {},
   "source": [
    "\n",
    "## Bayes's Theorem\n",
    "\n",
    "### Bayes' Theorem (for two events)\n",
    "**Theorem 2.4:** For any events  A $ and $ B $ such that $ \\Pr(B) \\neq 0 $,\n",
    "\n",
    "$\n",
    "\\Pr(A|B) = \\frac{\\Pr(B|A)\\Pr(A)}{\\Pr(B)}.\n",
    "$\n",
    "\n",
    "### Theorem of Total Probability\n",
    "**Theorem 2.5:** Let $ B_1, B_2, \\ldots, B_n $ be a set of mutually exclusive and exhaustive events. That is, $ B_i \\cap B_j = \\varnothing $ for all $ i \\neq j $ and\n",
    "\n",
    "$\n",
    "\\bigcup_{i=1}^{n} B_i = S \\Rightarrow \\sum_{i=1}^{n} \\Pr(B_i) = 1.\n",
    "$\n",
    "\n",
    "Then\n",
    "\n",
    "$\n",
    "\\Pr(A) = \\sum_{i=1}^{n} \\Pr(A|B_i)\\Pr(B_i).\n",
    "$\n"
   ]
  },
  {
   "cell_type": "markdown",
   "metadata": {},
   "source": [
    "## Bernoulli Random Variable\n",
    "\n",
    "This is the simplest possible RV and is used to represent experiments that have two possible outcomes. These experiments are called Bernoulli trials and the resulting RV is called a **Bernoulli RV**. It is most common to associate the values {0,1} with the two outcomes of the experiment. If $ X $ is a Bernoulli RV, its probability mass function is of the form\n",
    "\n",
    "$\n",
    "p_X(0) = 1 - p, \\quad p_X(1) = p.\n",
    "$\n",
    "\n",
    "Consider a probabilistic experiment involving the discrete RV $ X $ that takes one of two possible values:\n",
    "- the value 1 with probability $ p $;\n",
    "- the value 0 with probability $ 1 - p $.\n",
    "\n",
    "**Programming**\n",
    "- [Bernoulli distribution by MATLAB: `binopdf`](https://www.mathworks.com/help/stats/bernoulli-distribution.html)\n",
    "- [`scipy.stats.bernoulli`](https://docs.scipy.org/doc/scipy/reference/generated/scipy.stats.bernoulli.html)"
   ]
  },
  {
   "cell_type": "code",
   "execution_count": 10,
   "metadata": {},
   "outputs": [
    {
     "data": {
      "image/png": "[encoded data removed]",
      "text/plain": [
       "<Figure size 400x300 with 1 Axes>"
      ]
     },
     "metadata": {},
     "output_type": "display_data"
    }
   ],
   "source": [
    "import numpy as np\n",
    "import matplotlib.pyplot as plt\n",
    "\n",
    "# Probability of success\n",
    "p = 0.7\n",
    "\n",
    "# Number of trials\n",
    "N = int(1e4)\n",
    "\n",
    "# Generate N uniformly distributed random numbers\n",
    "random_numbers = np.random.rand(N)\n",
    "\n",
    "# Simulate Bernoulli trials\n",
    "bernoulli_rv = random_numbers <= p\n",
    "\n",
    "# Plot Bernoulli events\n",
    "plt.figure(figsize=(4, 3)) \n",
    "plt.plot(bernoulli_rv[:30], 'ro')\n",
    "plt.title('Bernoulli Events')\n",
    "plt.xlabel('Index of Events')\n",
    "plt.ylabel('Events')\n",
    "plt.show()\n"
   ]
  }
 ],
 "metadata": {
  "kernelspec": {
   "display_name": "env2",
   "language": "python",
   "name": "python3"
  },
  "language_info": {
   "codemirror_mode": {
    "name": "ipython",
    "version": 3
   },
   "file_extension": ".py",
   "mimetype": "text/x-python",
   "name": "python",
   "nbconvert_exporter": "python",
   "pygments_lexer": "ipython3",
   "version": "3.12.2"
  }
 },
 "nbformat": 4,
 "nbformat_minor": 2
}