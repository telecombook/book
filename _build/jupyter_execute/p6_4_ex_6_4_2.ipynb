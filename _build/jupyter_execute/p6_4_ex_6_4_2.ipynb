{
 "cells": [
  {
   "cell_type": "markdown",
   "metadata": {},
   "source": [
    "The problem you've provided pertains to the topic of source coding in information theory. Here, we're dealing with a binary symmetric source and the goal is to compress its output at a rate below its entropy. I'll explain the problem step by step.\n",
    "\n",
    "1. **Binary Symmetric Source (BSS):**\n",
    "   A binary symmetric source is one where there are only two possible outcomes (usually denoted as 0 and 1), and each outcome has an equal probability of occurring. In this case, \\( p = \\frac{1}{2} \\).\n",
    "\n",
    "2. **Source Entropy ( \\( H_b(p) \\) ):**\n",
    "   Entropy is a measure of the average information produced by a stochastic source of data. For a binary source with equal probabilities, the entropy is maximized and given by:\n",
    "   \\[ H_b(p) = -p\\log_2(p) - (1-p)\\log_2(1-p) \\]\n",
    "   Plugging in \\( p = \\frac{1}{2} \\), the entropy \\( H_b(\\frac{1}{2}) \\) is 1 bit per source symbol.\n",
    "\n",
    "3. **Compression Rate:**\n",
    "   The problem states that the source is to be compressed at a rate of 0.75 bits per source output, which is less than the entropy of the source. This means some information is lost during compression, making perfect, lossless compression impossible.\n",
    "\n",
    "4. **Error Probability and Hamming Distortion:**\n",
    "   Since error-free compression is impossible, the best error probability is found by considering a given distortion measure. Here, Hamming distortion is used, which counts the number of positions at which the corresponding symbols are different.\n",
    "\n",
    "5. **Rate-Distortion Function ( \\( R(D) \\) ):**\n",
    "   The rate-distortion function tells us the minimum number of bits per symbol required to encode the source output with an average distortion not exceeding \\( D \\). It is defined as:\n",
    "   \\[ R(D) = \\min_{p(x|\\hat{x}):E[d(X,\\hat{X})]\\leq D} I(X;\\hat{X}) \\]\n",
    "   where \\( X \\) is the source output, \\( \\hat{X} \\) is the reconstructed source output after compression, \\( d(X,\\hat{X}) \\) is the distortion measure, and \\( I(X;\\hat{X}) \\) is the mutual information between \\( X \\) and \\( \\hat{X} \\).\n",
    "\n",
    "6. **Solving for Error Probability \\( P_e \\):**\n",
    "   In this problem, we are given that \\( R(D) = R(P_e) = 0.75 \\). The equation given by \\( R(P_e) = H_b(p) - H_b(P_e) \\) needs to be solved for \\( P_e \\).\n",
    "   \n",
    "   Substituting \\( H_b(p) = 1 \\) (from the entropy of a binary symmetric source) and \\( R(P_e) = 0.75 \\), we get:\n",
    "   \\[ 0.75 = 1 - H_b(P_e) \\]\n",
    "   \\[ H_b(P_e) = 1 - 0.75 = 0.25 \\]\n",
    "   \n",
    "   We need to find \\( P_e \\) such that \\( H_b(P_e) = 0.25 \\). The binary entropy function \\( H_b(x) \\) for \\( 0 \\leq x \\leq 1 \\) is a concave function and \\( H_b(x) = H_b(1-x) \\), so there will be two values of \\( P_e \\) that satisfy \\( H_b(P_e) = 0.25 \\).\n",
    "\n",
    "Let's solve the equation \\( H_b(P_e) = 0.25 \\) to find the error probability \\( P_e \\). We'll use a Python script to calculate the value of \\( P_e \\).\n",
    "\n",
    "It seems there was an issue with the initial guess in the numerical solver causing it to not converge properly. This is likely because the entropy function \\( H_b(p) \\) has its maximum at \\( p = 0.5 \\), which might not be the best starting point for the fsolve function given the symmetry of \\( H_b(p) \\). Also, we know the error probability \\( P_e \\) has to be less than 0.5.\n",
    "\n",
    "Let's try different initial guesses closer to 0, since we expect \\( P_e \\) to be lower than 0.5 for an error probability. We can try values like 0.1 and 0.01 for a better approximation.\n",
    "\n",
    "After using a range of initial guesses and solving for the binary entropy function to equal 0.25, we found a consistent solution for the error probability \\( P_e \\). Despite the small numerical differences due to precision, the solution for \\( P_e \\) converges around \\( 0.04169 \\). This is the minimum error probability that can be achieved using a system of limited complexity and delay when compressing a binary symmetric source with a compression rate of 0.75 bits per source output, considering Hamming distortion as the measure of error."
   ]
  },
  {
   "cell_type": "code",
   "execution_count": 1,
   "metadata": {},
   "outputs": [
    {
     "ename": "ModuleNotFoundError",
     "evalue": "No module named 'scipy'",
     "output_type": "error",
     "traceback": [
      "\u001b[0;31m---------------------------------------------------------------------------\u001b[0m",
      "\u001b[0;31mModuleNotFoundError\u001b[0m                       Traceback (most recent call last)",
      "Cell \u001b[0;32mIn[1], line 1\u001b[0m\n\u001b[0;32m----> 1\u001b[0m \u001b[38;5;28;01mfrom\u001b[39;00m \u001b[38;5;21;01mscipy\u001b[39;00m\u001b[38;5;21;01m.\u001b[39;00m\u001b[38;5;21;01moptimize\u001b[39;00m \u001b[38;5;28;01mimport\u001b[39;00m fsolve\n\u001b[1;32m      2\u001b[0m \u001b[38;5;28;01mimport\u001b[39;00m \u001b[38;5;21;01mnumpy\u001b[39;00m \u001b[38;5;28;01mas\u001b[39;00m \u001b[38;5;21;01mnp\u001b[39;00m\n\u001b[1;32m      3\u001b[0m \u001b[38;5;66;03m# Define the binary entropy function\u001b[39;00m\n",
      "\u001b[0;31mModuleNotFoundError\u001b[0m: No module named 'scipy'"
     ]
    }
   ],
   "source": [
    "from scipy.optimize import fsolve\n",
    "import numpy as np\n",
    "# Define the binary entropy function\n",
    "def binary_entropy(p):\n",
    "    return -p * np.log2(p) - (1 - p) * np.log2(1 - p) if p not in [0, 1] else 0.0\n",
    "\n",
    "\n",
    "# Define the equation to solve: Hb(Pe) - 0.25 = 0\n",
    "def equation_to_solve(Pe):\n",
    "    return binary_entropy(Pe) - 0.25\n",
    "\n",
    "\n",
    "# Given the symmetry, we should search for a solution in the range [0, 0.5]\n",
    "# We will solve the equation for a range of initial guesses to find the correct Pe.\n",
    "initial_guesses = np.linspace(0.01, 0.49, 100)  # Initial guesses from 0.01 to just below 0.5\n",
    "\n",
    "# We will store all possible solutions\n",
    "solutions = []\n",
    "\n",
    "# For each initial guess, we try to solve the equation\n",
    "for initial_guess in initial_guesses:\n",
    "    Pe_solution, = fsolve(equation_to_solve, initial_guess)\n",
    "    # We only accept solutions within the interval [0, 0.5] to ensure it's a valid probability\n",
    "    if 0 <= Pe_solution <= 0.5:\n",
    "        # Due to numerical accuracy, we also check if the solution is close enough to the target entropy value\n",
    "        if np.isclose(binary_entropy(Pe_solution), 0.25):\n",
    "            solutions.append(Pe_solution)\n",
    "\n",
    "# Eliminate duplicates by converting the list to a set and then back to a list\n",
    "unique_solutions = list(set(solutions))\n",
    "\n",
    "# Show unique solutions\n",
    "unique_solutions\n"
   ]
  }
 ],
 "metadata": {
  "kernelspec": {
   "display_name": "Python 3",
   "language": "python",
   "name": "python3"
  },
  "language_info": {
   "codemirror_mode": {
    "name": "ipython",
    "version": 3
   },
   "file_extension": ".py",
   "mimetype": "text/x-python",
   "name": "python",
   "nbconvert_exporter": "python",
   "pygments_lexer": "ipython3",
   "version": "3.11.5"
  }
 },
 "nbformat": 4,
 "nbformat_minor": 2
}