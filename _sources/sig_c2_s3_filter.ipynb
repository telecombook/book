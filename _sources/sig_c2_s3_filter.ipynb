{
 "cells": [
  {
   "cell_type": "markdown",
   "metadata": {},
   "source": [
    "## Filter, Channel, and System"
   ]
  },
  {
   "cell_type": "markdown",
   "metadata": {},
   "source": [
    "### Lowpass Equivalent of a Bandpass System\n",
    "\n",
    "#### Bandpass Systems\n",
    "\n",
    "A **bandpass system** is a system whose transfer function is centered around a frequency $f_0$ and its mirror image at $-f_0$.\n",
    "\n",
    "**Definition: Lowpass Equivalent of System Impulse Response**  \n",
    "A bandpass system is characterized by an impulse response $h(t)$, which is itself a bandpass signal.  \n",
    "The **lowpass equivalent** of $h(t)$, denoted by $h_l(t)$, is defined as:  \n",
    "\n",
    "$$\n",
    "h(t) = \\Re \\big\\{ h_l(t)e^{j2\\pi f_0t} \\big\\}\n",
    "$$\n",
    "\n",
    "\n",
    "\n",
    "### Input-Output Relationship in Bandpass Systems\n",
    "\n",
    "When a bandpass signal $x(t)$ passes through a bandpass system with impulse response $h(t)$, the output $y(t)$ is also a bandpass signal. The relationship between the spectra of the input and output is:  \n",
    "\n",
    "$$\n",
    "Y(f) = X(f)H(f)\n",
    "$$"
   ]
  },
  {
   "cell_type": "markdown",
   "metadata": {},
   "source": [
    "### Lowpass Equivalent Relationship\n",
    "\n",
    "For the lowpass equivalents of the signals and system, the relationship is given by:  \n",
    "\n",
    "$$\n",
    "Y_l(f) = 2Y(f + f_0)u_{-1}(f + f_0)\n",
    "$$\n",
    "\n",
    "Expanding this:  \n",
    "\n",
    "$$\n",
    "Y_l(f) = 2X(f + f_0)H(f + f_0)u_{-1}(f + f_0)\n",
    "$$\n",
    "\n",
    "Simplifying further:  \n",
    "\n",
    "$$\n",
    "\\boxed{\n",
    "Y_l(f) = \\frac{1}{2} X_l(f)H_l(f)\n",
    "}\n",
    "$$"
   ]
  },
  {
   "cell_type": "markdown",
   "metadata": {},
   "source": [
    "### Time Domain Relation\n",
    "\n",
    "In the time domain, the relation between the input $x(t)$, the system impulse response $h(t)$, and the output $y(t)$ is: \n",
    "\n",
    "$$\n",
    "\\boxed{\n",
    "y(t) = \\frac{1}{2} x(t) \\circledast h_l(t)\n",
    "}\n",
    "$$\n",
    "\n",
    "where $\\circledast$ denotes the convolution. \n",
    "\n",
    "**Key Insight** \n",
    "\n",
    "- When a **bandpass signal** passes through a **bandpass system**, the relationship between their lowpass equivalents is analogous to that between the bandpass signals.  \n",
    "- The **only difference** is the introduction of a scaling factor of $\\frac{1}{2}$ for the lowpass equivalents."
   ]
  },
  {
   "cell_type": "markdown",
   "metadata": {},
   "source": [
    "### Matlab Example: Lowpass Filtering of Tones\n",
    "\n",
    "**Reference**: [Lowpass Filtering of Tones](https://www.mathworks.com/help/signal/ref/lowpass.html)\n",
    "\n",
    "This example demonstrates how to generate, process, and analyze a signal with specific frequency components and noise, and how a lowpass filter isolates desired frequencies:\n",
    "\n",
    "**Signal Generation**:\n",
    "  - A signal is created with a duration of **1 second**, sampled at a rate of **1 kHz** (1000 samples per second). This means the signal will have **1000 samples** for the 1-second duration.\n",
    "  - The signal consists of two sinusoidal tones:\n",
    "    - A **low-frequency tone** at **100 Hz**.\n",
    "    - A **high-frequency tone** at **300 Hz**.\n",
    "  - **Amplitude adjustment**: The amplitude of the 300 Hz tone is set to **twice that of the 100 Hz tone**, making it more prominent in the signal.\n",
    "  - **Noise addition**: Gaussian white noise with a variance of $ \\frac{1}{100} $ is added to simulate a realistic noisy environment. White noise introduces random variations across all frequencies.\n",
    "\n",
    "**Lowpass Filtering**:\n",
    "  - A **lowpass filter** is applied to the signal. This filter is designed to pass frequencies below a certain threshold and attenuate higher frequencies.\n",
    "  - The threshold (passband frequency) is set to **200 Hz**, meaning:\n",
    "    - The low-frequency component at 100 Hz is retained.\n",
    "    - The high-frequency component at 300 Hz is attenuated or removed, along with any noise above 200 Hz."
   ]
  },
  {
   "cell_type": "markdown",
   "metadata": {},
   "source": [
    "#### Matlab Simulation\n",
    "```Matlab\n",
    "% Sampling frequency (1 kHz)\n",
    "fs = 1e3;\n",
    "\n",
    "% Time vector (1 second duration, sampled at 1 kHz)\n",
    "t = 0:1/fs:1;\n",
    "\n",
    "% Generate the signal:\n",
    "% - Two sinusoidal tones: 100 Hz and 300 Hz\n",
    "% - Amplitudes are 1 and 2, respectively\n",
    "% - Add Gaussian white noise with variance 1/100\n",
    "x = [1 2]*sin(2*pi*[100 300]'.*t) + randn(size(t))/10;\n",
    "\n",
    "% Apply a lowpass filter:\n",
    "% - Passband frequency: 200 Hz\n",
    "% - Sampling frequency: fs (1 kHz)\n",
    "filtered_x = lowpass(x, 200, fs);\n",
    "\n",
    "% Plot time-domain and frequency-domain views\n",
    "\n",
    "```"
   ]
  },
  {
   "cell_type": "markdown",
   "metadata": {},
   "source": [
    "3. **Visualization**:\n",
    "   - The **original signal** is displayed in the time domain, showing the combined tones and noise.\n",
    "   - The **filtered signal** is displayed to show how the high-frequency tone and noise are reduced, leaving mostly the 100 Hz tone.\n",
    "   - **Spectra** (frequency-domain representations) of both signals are plotted:\n",
    "     - The spectrum of the original signal shows two peaks at 100 Hz and 300 Hz, corresponding to the tones, along with the noise spread across all frequencies.\n",
    "     - The spectrum of the filtered signal shows only the peak at 100 Hz, as the 300 Hz tone and higher-frequency noise are removed by the filter."
   ]
  },
  {
   "cell_type": "markdown",
   "metadata": {},
   "source": [
    "![fig_sig_c2_s1_filter_a](Figures/fig_sig_c2_s1_filter_a.png)\n",
    "\n",
    "![fig_sig_c2_s1_filter_b](Figures/fig_sig_c2_s1_filter_b.png)"
   ]
  }
 ],
 "metadata": {
  "language_info": {
   "name": "python"
  }
 },
 "nbformat": 4,
 "nbformat_minor": 2
}
