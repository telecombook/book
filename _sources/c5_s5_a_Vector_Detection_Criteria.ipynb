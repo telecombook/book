{
 "cells": [
  {
   "cell_type": "markdown",
   "metadata": {},
   "source": [
    "## Criteria for Multiple Sample Detection of Binary Hypotheses"
   ]
  },
  {
   "cell_type": "markdown",
   "metadata": {},
   "source": [
    "Each decision criterion—Bayes, MAP, Minimax, and Neyman-Pearson—can be effectively extended to handle multiple measurements by adapting their respective decision rules and thresholds to accommodate the higher-dimensional data involved."
   ]
  },
  {
   "cell_type": "markdown",
   "metadata": {},
   "source": [
    "### Bayes Criterion\n",
    "\n",
    "The Bayes criterion for handling multiple measurements extends naturally from its single-measurement counterpart.\n",
    "\n",
    "**Definition of Bayes Risk:**\n",
    "\n",
    "The Bayes risk is expressed as:\n",
    "\n",
    "$$ \\boxed{\n",
    "r = [P_{00}C_{00} + P_{10}C_{10}]\\pi_0 + [P_{01}C_{01} + P_{11}C_{11}]\\pi_1 \n",
    "}\n",
    "$$\n",
    "\n",
    "Here:\n",
    "- $ P_{11} = 1 - P_{01} $\n",
    "- $ P_{10} = 1 - P_{00} $\n",
    "\n",
    "The probabilities $ P_{00} $ and $ P_{01} $ are defined by the integrals:\n",
    "\n",
    "$$\n",
    "P_{00} = \\int_{R_0} p_0(\\vec{y}) d\\vec{y}\n",
    "$$\n",
    "\n",
    "$$\n",
    "P_{01} = \\int_{R_0} p_1(\\vec{y}) d\\vec{y}\n",
    "$$\n",
    "\n",
    "These integrals are similar to those in the single-measurement case but are extended to a $ k $-dimensional vector $ \\vec{y} $.\n",
    "\n",
    "**Simplified Bayes Risk:**\n",
    "\n",
    "The Bayes risk can be rewritten as:\n",
    "\n",
    "$$\n",
    "r = \\pi_0 C_{01} + \\pi_1 C_{11} + \\int_{R_0} \\left[ \\pi_1 (C_{01} - C_{11}) p_1(\\vec{y}) - \\pi_0 (C_{10} - C_{00}) p_0(\\vec{y}) \\right] d\\vec{y}\n",
    "$$\n",
    "\n",
    "To minimize $ r $, we seek the volume $ R_0 $ in $ k $-space that achieves this minimum.\n",
    "\n",
    "**Decision Threshold**\n",
    "\n",
    "$$\\boxed{\n",
    "\\eta_B = \\frac{\\pi_0 (C_{10} - C_{00})}{\\pi_1 (C_{01} - C_{11})}\n",
    "}\n",
    "$$\n",
    "\n",
    "**Decision Rule:**\n",
    "\n",
    "Choose $ R_0 $ such that:\n",
    "\n",
    "$$\n",
    "\\pi_1 (C_{01} - C_{11}) p_1(\\vec{y}) - \\pi_0 (C_{10} - C_{00}) p_0(\\vec{y}) < 0\n",
    "$$\n",
    "\n",
    "This leads to a likelihood ratio decision rule:\n",
    "\n",
    "$$\n",
    "L(\\vec{y}) = \\frac{p_1(\\vec{y})}{p_0(\\vec{y})} < \\eta_B \n",
    "$$\n",
    "\n",
    "In summary, the decision rule based on the combined notation is:\n",
    "\n",
    "$$\n",
    "L(\\vec{y}) \\begin{cases} \\ge \\eta_B & \\text{choose } D_1 \\\\ < \\eta_B & \\text{choose } D_0 \\end{cases} \n",
    "$$"
   ]
  },
  {
   "cell_type": "markdown",
   "metadata": {},
   "source": [
    "### MAP Criterion\n",
    "\n",
    "When the costs associated with decisions are **unknown**, the Maximum A Posteriori (MAP) criterion is applied.\n",
    "\n",
    "**Equivalence to Cost Setting:**\n",
    "\n",
    "The MAP criterion is equivalent to assuming that the cost differences satisfy $ C_{10} - C_{00} = C_{01} - C_{11} $.\n",
    "\n",
    "**Threshold and Decision Rule:**\n",
    "\n",
    "Under MAP, the threshold is determined by:\n",
    "\n",
    "$$ \\boxed{\n",
    "\\eta_{MAP} = \\frac{\\pi_0}{\\pi_1}\n",
    "}\n",
    "$$\n",
    "\n",
    "The corresponding decision rule is:\n",
    "\n",
    "$$\n",
    "\\delta_{MAP}(\\vec{y}) = \\begin{cases} 1, & L(\\vec{y}) \\ge \\eta_{MAP} \\\\ 0, & L(\\vec{y}) < \\eta_{MAP} \\end{cases}\n",
    "$$\n",
    "\n",
    "This means that if the likelihood ratio $ L(\\vec{y}) $ exceeds $ \\eta_{MAP} $, decision $ D_1 $ is made; otherwise, $ D_0 $ is chosen."
   ]
  },
  {
   "cell_type": "markdown",
   "metadata": {},
   "source": [
    "### Minimax Criterion\n",
    "\n",
    "The minimax approach for multiple measurements mirrors the single-measurement scenario.\n",
    "\n",
    "**Extension to Multiple Measurements:**\n",
    "\n",
    "All principles applicable to single measurements in detection theory are valid for multiple measurements. The key difference is that the single-measurement likelihood ratio $ L(y) $ is replaced by the multiple-measurement ratio $ L(\\vec{y}) $.\n",
    "\n",
    "**Minimax Decision Rule:**\n",
    "\n",
    "The minimax decision rule, which minimizes the maximum possible risk, is formulated as:\n",
    "\n",
    "$$\n",
    "\\delta_{mm}(\\vec{y}) = \\begin{cases} 1, & L(\\vec{y}) > \\eta_{mm} \\\\ \\eta, & L(\\vec{y}) = \\eta_{mm} \\\\ 0, & L(\\vec{y}) < \\eta_{mm} \\end{cases}\n",
    "$$\n",
    "\n",
    "Typically, a randomized decision is employed to determine the exact value of $ \\eta $. The threshold $ \\eta_{mm} $ is established using methodologies from single-measurement detection theory."
   ]
  },
  {
   "cell_type": "markdown",
   "metadata": {},
   "source": [
    "### Neyman-Pearson Criterion\n",
    "\n",
    "Similar to the minimax approach, the Neyman-Pearson criterion for multiple measurements builds directly on the single-measurement framework, ensuring that the false-alarm rate remains below a specified level $ \\alpha_f $.\n",
    "\n",
    "**Adaptation to Multiple Measurements:**\n",
    "\n",
    "By replacing the single measurement $ y $ with the measurement vector $ \\vec{y} $ and extending the integrals to $ k $-dimensional spaces, the Neyman-Pearson derivation seamlessly applies to multiple measurements.\n",
    "\n",
    "**Neyman-Pearson Decision Rule:**\n",
    "\n",
    "The decision rule under the Neyman-Pearson criterion, which may involve randomized tests, is given by:\n",
    "\n",
    "$$\n",
    "\\delta_{NP}(\\vec{y}) = \\begin{cases} 1, & L(\\vec{y}) > \\eta_{NP} \\\\ \\eta, & L(\\vec{y}) = \\eta_{NP} \\\\ 0, & L(\\vec{y}) < \\eta_{NP} \\end{cases}\n",
    "$$\n",
    "\n",
    "This rule ensures that the probability of a false alarm does not exceed the predefined threshold $ \\alpha_f $.\n"
   ]
  }
 ],
 "metadata": {
  "kernelspec": {
   "display_name": "env1",
   "language": "python",
   "name": "python3"
  },
  "language_info": {
   "codemirror_mode": {
    "name": "ipython",
    "version": 3
   },
   "file_extension": ".py",
   "mimetype": "text/x-python",
   "name": "python",
   "nbconvert_exporter": "python",
   "pygments_lexer": "ipython3",
   "version": "3.12.4"
  }
 },
 "nbformat": 4,
 "nbformat_minor": 2
}
