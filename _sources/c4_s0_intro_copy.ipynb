{
 "cells": [
  {
   "cell_type": "markdown",
   "metadata": {},
   "source": [
    "# Chapter 4: Signal Representation"
   ]
  },
  {
   "cell_type": "markdown",
   "metadata": {},
   "source": [
    "### Introduction\n",
    "\n",
    "Understanding how to represent signals accurately in these domains is essential for designing effective communication systems, especially when dealing with **limited bandwidth** and the challenges of **noise**. \n",
    "\n",
    "This chapter focuses on **signal representation**, exploring the conversion between passband and baseband signals, discrete representations, and noise modeling. \n",
    "\n",
    "We also delves into the mathematical tools used for signal decomposition, such as orthonormal expansions, Gram-Schmidt procedures, and the Karhunen-Loève (KL) expansion, which are pivotal in both deterministic and stochastic signal processing."
   ]
  },
  {
   "cell_type": "markdown",
   "metadata": {},
   "source": [
    "## Notations\n",
    "\n",
    "### Passband Notation\n",
    "\n",
    "- $ s(t) $: Transmitted passband signal in the time domain.\n",
    "- $ S(f) $: Fourier Transform of the passband signal $ s(t) $.\n",
    "- $ S_s(f) $: Power spectral density of the passband signal $ s(t) $.\n",
    "- $ f_c $: Carrier frequency of the passband signal.\n",
    "- $ h(t) $: Passband channel impulse response.\n",
    "- $ n(t) $: White noise in the passband domain.\n",
    "- $ R_n(\\tau) $: Autocorrelation function of passband noise $ n(t) $.\n",
    "- $ S_n(f) $: Power spectral density of passband noise $ n(t) $.\n",
    "\n",
    "### Equivalent Baseband Notation\n",
    "\n",
    "- $ s_b(t) $: Equivalent baseband signal of $ s(t) $.\n",
    "- $ S_b(f) $: Fourier Transform of the baseband equivalent $ s_b(t) $.\n",
    "- $ h_b(t) $: Equivalent baseband channel impulse response.\n",
    "- $ H_b(f) $: Fourier Transform of the baseband channel $ h_b(t) $.\n",
    "- $ n_b(t) $ or $ z(t) $: Equivalent baseband noise.\n",
    "- $ R_{n_b}(\\tau) $ or $ R_z(\\tau) $: Autocorrelation function of the baseband noise $ z(t) $.\n",
    "- $ S_{n_b}(f) $ or $ S_z(f) $: Power spectral density of baseband noise $ z(t) $.\n",
    "- $ y_b(t) $: Received baseband signal.\n",
    "\n",
    "### Discrete Notation\n",
    "\n",
    "The discrete notation provided is primarily for **equivalent baseband representation**, as it refers to the discrete processing of signals after they have been **down-converted** to the baseband. \n",
    "\n",
    "- $ s[m] $ or $ x[m] $: Discrete version of the transmitted signal.\n",
    "- $ y[m] $: Discrete version of the received signal.\n",
    "- $ h[m] $: Discrete version of the channel impulse response.\n",
    "- $ R_{n_b}(l) $ or $ R_z(l) $: Autocorrelation function of discrete baseband noise.\n",
    "- $ \\mathrm{sinc}(t) $: Sinc function used for reconstruction in discrete-time systems.\n",
    "\n",
    "### Other Functions\n",
    "\n",
    "- $ \\Re\\{\\cdot\\} $: Real part of a complex number.\n",
    "- $ \\Im\\{\\cdot\\} $: Imaginary part of a complex number.\n",
    "- $ h_{LP}(t) $: Ideal low-pass filter.\n",
    "- $ \\Theta_i(t) $: Orthonormal basis function in signal decomposition.\n",
    "- $ s_j $: Coefficients in orthonormal expansion of the signal.\n",
    "- $ R(t, \\tau) $: Autocorrelation function of a stochastic process.\n",
    "- $ \\lambda_i $: Eigenvalue in the Karhunen-Loève (KL) expansion.\n",
    "- $ n_i $: Coefficients of noise expansion in the KL expansion.\n"
   ]
  }
 ],
 "metadata": {
  "language_info": {
   "name": "python"
  }
 },
 "nbformat": 4,
 "nbformat_minor": 2
}
