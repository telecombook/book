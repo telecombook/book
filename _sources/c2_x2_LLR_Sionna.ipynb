{
 "cells": [
  {
   "cell_type": "markdown",
   "metadata": {},
   "source": [
    "## Tutorial: Differentiable Communication Systems Using Sionna\n",
    "\n",
    "1. **Binary Source Generation**:\n",
    "   - A binary source is created to generate random, independent, and identically distributed (i.i.d.) binary sequences.\n",
    "   - Code: `binary_source = sionna.utils.BinarySource()`.\n",
    "\n",
    "2. **QAM Modulation**:\n",
    "   - The generated binary sequences are mapped to QAM symbols using a trainable constellation.\n",
    "   - The constellation can be made trainable by setting the parameter `trainable=True` during instantiation.\n",
    "   - Code:\n",
    "     ```python\n",
    "     constellation = sionna.mapping.Constellation(\"qam\", NUM_BITS_PER_SYMBOL, trainable=True)\n",
    "     mapper = sionna.mapping.Mapper(constellation=constellation)\n",
    "     ```\n",
    "\n",
    "3. **Transmission through AWGN Channel**:\n",
    "   - The QAM symbols are transmitted over an Additive White Gaussian Noise (AWGN) channel.\n",
    "   - Code: `awgn_channel = sionna.channel.AWGN()`.\n",
    "\n",
    "4. **Demodulation and Bit Recovery**:\n",
    "   - The received signal is demodulated to recover the transmitted bits.\n",
    "   - Two demapping methods are employed:\n",
    "     - **Baseline LLR Demapper**: Computes the Log-Likelihood Ratios (LLRs) to decode the bits. This serves as the baseline for comparison.\n",
    "       - Code: `demapper = sionna.mapping.Demapper(\"app\", constellation=constellation)`.\n",
    "     - **Neural Demapper**: A deep neural network (DNN) with three dense layers is used to predict the bit sequences directly from the received signal. The final layer outputs logits (LLRs).\n",
    "       - Code:\n",
    "         ```python\n",
    "         class NeuralDemapper(Layer):\n",
    "             def __init__(self):\n",
    "                 super().__init__()\n",
    "                 self.dense_1 = Dense(64, 'relu')\n",
    "                 self.dense_2 = Dense(64, 'relu')\n",
    "                 self.dense_3 = Dense(NUM_BITS_PER_SYMBOL, None) # Outputs logits, i.e., LLRs\n",
    "                  ...\n",
    "                 return llr\n",
    "         ```\n",
    "       - The neural demapper is trained using a Binary Cross-Entropy (BCE) loss function:\n",
    "         - The BCE loss compares the true bits (`bits`) with the predicted logits (`llr`) output by the neural demapper.\n",
    "         - Code:\n",
    "           ```python\n",
    "           bce = tf.keras.losses.BinaryCrossentropy(from_logits=True)\n",
    "           loss = bce(bits, llr)\n",
    "           ```\n",
    "\n",
    "5. **Performance Evaluation**:\n",
    "   - The performance of both demappers is evaluated based on the Bit Error Rate (BER).\n",
    "   - The neural demapper is benchmarked against the baseline LLR demapper using BER plots.\n",
    "   - Code for performance evaluation:\n",
    "     ```python\n",
    "     ber_plots = sionna.utils.plotting.PlotBER(\"Neural Demapper\")\n",
    "     ber_plots.simulate(baseline, ebno_dbs=np.linspace(EBN0_DB_MIN, EBN0_DB_MAX, 20), batch_size=BATCH_SIZE)\n",
    "     ber_plots.simulate(neural_demapper, ebno_dbs=np.linspace(EBN0_DB_MIN, EBN0_DB_MAX, 20), batch_size=BATCH_SIZE)\n",
    "     ```\n",
    "\n",
    "   - Results indicate that the neural demapper achieves performance comparable to the baseline LLR demapper.\n"
   ]
  },
  {
   "cell_type": "markdown",
   "metadata": {},
   "source": [
    "## References\n",
    "* [Sionna, Differentiable Communication Systems](https://nvlabs.github.io/sionna/examples/Sionna_tutorial_part2.html)\n",
    "* [sionna.utils.BinarySource](https://nvlabs.github.io/sionna/api/utils.html?highlight=utils%20binarysource#sionna.utils.BinarySource)\n",
    "* [sionna.mapping.Mapper](https://nvlabs.github.io/sionna/api/mapping.html)\n",
    "* [sionna.channel.AWGN](https://nvlabs.github.io/sionna/api/channel.wireless.html?highlight=channel%20awgn#sionna.channel.AWGN)\n",
    "* [sionna.mapping.Demapper](https://nvlabs.github.io/sionna/api/mapping.html?highlight=mapping%20demapper#sionna.mapping.Demapper)\n",
    "* [sionna.utils.plotting.PlotBER](https://nvlabs.github.io/sionna/api/utils.html?highlight=utils%20plotber#sionna.utils.plotting.PlotBER)"
   ]
  },
  {
   "cell_type": "code",
   "execution_count": null,
   "metadata": {},
   "outputs": [],
   "source": []
  }
 ],
 "metadata": {
  "language_info": {
   "name": "python"
  }
 },
 "nbformat": 4,
 "nbformat_minor": 2
}
