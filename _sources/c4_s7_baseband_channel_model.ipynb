{
 "cells": [
  {
   "cell_type": "markdown",
   "metadata": {},
   "source": [
    "## Equivalent Baseband Channel Model"
   ]
  },
  {
   "cell_type": "markdown",
   "metadata": {},
   "source": [
    "### Equivalent Baseband Model\n",
    "\n",
    "The **equivalent baseband model** simplifies the analysis of a passband communication system by shifting **all operations and components** to baseband (centered around 0 Hz). \n",
    "\n",
    "This is achieved by mathematically translating the passband **signals and channels** to their baseband equivalents, and obtain euqivalent baseband observation/received signa:\n",
    "\n",
    "$$\n",
    "\\boxed{\n",
    "y_b(t) = h_b(t) * x_b(t)\n",
    "}\n",
    "$$\n",
    "\n",
    "where \n",
    "\n",
    "- **$ y_b(t) $:** Received baseband signal.\n",
    "- **$ h_b(t) $:** Equivalent baseband channel response (complex-valued).\n",
    "- **$ x_b(t) $:** Transmitted baseband signal (complex-valued).\n",
    "- **$*$:** Convolution operation."
   ]
  },
  {
   "cell_type": "markdown",
   "metadata": {},
   "source": [
    "### Equivalent Baseband Channel $ h_b(t) $\n",
    "\n",
    "To transition from the passband channel $ h(t) $ to its baseband equivalent $ h_b(t) $, we perform **frequency shifting and filtering operations**. \n",
    "\n",
    "#### Time-Domain Relationship\n",
    "\n",
    "$$\n",
    "\\boxed{\n",
    "h_b(t) = \\sqrt{2} \\cdot h(t) e^{-j2\\pi f_c t} \\ast h_{LP}(t)\n",
    "}\n",
    "$$\n",
    "\n",
    "where\n",
    "\n",
    "- **$ h(t) $:** Original passband channel impulse response (real-valued).\n",
    "- **$ f_c $:** Carrier frequency.\n",
    "- **$ e^{-j2\\pi f_c t} $:** Complex exponential used for frequency shifting (down-conversion).\n",
    "- **$ h_{LP}(t) $:** Ideal low-pass filter with bandwidth $ \\left[-\\frac{W}{2}, \\frac{W}{2}\\right] $.\n",
    "- **$\\ast$:** Convolution operation.\n",
    "\n",
    "**Detail Operations**\n",
    "\n",
    "1. **Frequency Shifting:** Multiplying $ h(t) $ by $ e^{-j2\\pi f_c t} $ shifts the frequency spectrum of the channel down by the carrier frequency $ f_c $, effectively bringing it to baseband.\n",
    "\n",
    "2. **Complex Representation:** Unlike taking only the real part, retaining the full complex expression ensures that both the in-phase (I) and quadrature (Q) components of the channel are captured. \n",
    "\n",
    "    This is essential for accurately modeling the channel's impact on the transmitted signal.\n",
    "\n",
    "3. **Low-Pass Filtering:** Applies an ideal low-pass filter to isolate the baseband components, removing any high-frequency artifacts introduced during frequency shifting.\n",
    "\n",
    "4. **Scaling Factor $ \\sqrt{2} $:** Compensates for the energy distribution when dealing with complex signals, ensuring power conservation.\n",
    "\n",
    "#### Frequency-Domain Relationship\n",
    "\n",
    "$$\n",
    "\\boxed{\n",
    "H_b(f) = \\sqrt{2} \\cdot H(f + f_c) \\cdot \\text{rect}\\left( \\frac{f}{W} \\right)\n",
    "}\n",
    "$$\n",
    "\n",
    "where\n",
    "\n",
    "- **$ H(f) $:** Fourier Transform of the passband channel $ h(t) $.\n",
    "- **$ H_b(f) $:** Fourier Transform of the equivalent baseband channel $ h_b(t) $.\n",
    "- **$ \\text{rect}\\left( \\frac{f}{W} \\right) $:** Rectangular function defining the passband of the low-pass filter $ h_{LP}(t) $.\n",
    "\n",
    "**Detail Operations**\n",
    "\n",
    "1. **Frequency Shifting:** $ H(f + f_c) $ shifts the spectrum of $ H(f) $ down by $ f_c $, centering it around 0 Hz.\n",
    "\n",
    "2. **Rectangular Filtering:** The $ \\text{rect}\\left( \\frac{f}{W} \\right) $ function ensures that only frequencies within $ \\left[-\\frac{W}{2}, \\frac{W}{2}\\right] $ pass through, effectively applying the low-pass filter.\n",
    "\n",
    "3. **Scaling Factor $ \\sqrt{2} $:** Maintains the correct amplitude scaling after modulation and filtering.\n"
   ]
  }
 ],
 "metadata": {
  "language_info": {
   "name": "python"
  }
 },
 "nbformat": 4,
 "nbformat_minor": 2
}
