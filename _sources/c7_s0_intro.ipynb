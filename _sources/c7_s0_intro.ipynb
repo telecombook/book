{
 "cells": [
  {
   "cell_type": "markdown",
   "metadata": {},
   "source": [
    "# Estimation of Specific Parameters"
   ]
  },
  {
   "cell_type": "markdown",
   "metadata": {},
   "source": [
    "**Estimation of Single Specific Parameter**\n",
    "\n",
    "This chapter addresses the estimation of several critical signal parameters, such as amplitude, phase, time of arrival (delay), and frequency. It explores both the estimation of individual parameters and the simultaneous estimation of multiple parameters in considerable detail.\n",
    "\n",
    "Building on the fundamental ideas discussed in Chapter: Introduction to Estimation, the chapter applies general estimation theory to specific parameters like amplitude and phase, under the assumption of white Gaussian noise. The primary estimation methods employed are Maximum A Posteriori (MAP) and Maximum Likelihood (ML).\n",
    "\n",
    "The discussion begins by examining the situation where a known signal is observed in additive white Gaussian noise (WGN), with the parameter of interest embedded in that signal. From this general perspective, the analysis then specializes to the estimation of signal amplitude in WGN, covering both coherent (known phase) and noncoherent (unknown phase) scenarios and presenting MAP and ML approaches for each.  \n",
    "\n",
    "Subsequent sections cover phase estimation and time-delay (time of arrival) estimation within WGN, followed by an introductory treatment of frequency estimation focused on determining a single frequency in WGN. In more realistic situations, the exact number of signals or the noise properties may be uncertain, leading to further investigation of joint estimation scenarios (as time permits).\n",
    "\n",
    "The Cramér-Rao bound is derived and expressed in terms of the Fisher information matrix. By inverting this matrix, one obtains the covariance elements associated with the estimators, providing a fundamental performance benchmark.\n",
    "\n",
    "**Estimation of Multiple Parameters**\n",
    "\n",
    "Having introduced single-parameter estimation in the previous sections, the text next extends the analysis to cases involving multiple-parameter estimation, where most operations are linear. Both the Maximum Likelihood (ML) and Maximum A Posteriori (MAP) estimators are obtained by applying a discrete linear observation model that incorporates the parameters of interest.\n",
    "\n",
    "The ML estimator is derived for the general case in which noise has zero mean but may be non-white, characterized by a known covariance matrix. Based on the Cramér-Rao bound, this ML estimator is shown to be unbiased and to achieve the minimum possible variance. The scenario where the parameters themselves follow a Gaussian distribution is then examined, leading to a derivation of the Fisher information matrix and showing that the resulting MAP estimator is also unbiased and of minimum variance.\n",
    "\n",
    "Modern estimation problems frequently require generating estimates before all observations are collected. This motivates a discussion of sequential estimation in Gaussian noise, in which each new measurement is used together with the previous estimate to form an updated parameter estimate, rather than waiting for the entire data record. It is noted that this sequential framework essentially represents a simplified version of the Kalman filter."
   ]
  },
  {
   "cell_type": "markdown",
   "metadata": {},
   "source": [
    "### References\n",
    "\n",
    "The contents of the sections in this chapter are based on the following materials.\n",
    "\n",
    "* T. Schonhoff and A. Giordano, _Detection and Estimation Theory and its Applications_. Prentice Hall, 2006 , Chapter 11 and Chapter 12"
   ]
  }
 ],
 "metadata": {
  "language_info": {
   "name": "python"
  }
 },
 "nbformat": 4,
 "nbformat_minor": 2
}
