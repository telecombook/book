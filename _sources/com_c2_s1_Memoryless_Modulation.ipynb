{
 "cells": [
  {
   "cell_type": "markdown",
   "metadata": {},
   "source": [
    "## Memoryless Modulation Schemes\n",
    "\n",
    "Memoryless modulation schemes transmit each symbol independently without relying on previous symbols. These schemes are fundamental in digital communications, enabling efficient and reliable data transmission by varying specific signal parameters.\n",
    "\n",
    "### Waveform\n",
    "\n",
    "- **Definition of $ s_m(t) $:**\n",
    "  - In digital communication systems, $ s_m(t) $ represents the **signal waveform** corresponding to the $ m $-th symbol in a modulation scheme.\n",
    "  - Each symbol $ m $ encodes a specific sequence of binary bits, and $ s_m(t) $ is the time-domain representation of that symbol used for transmission over the communication channel.\n",
    "\n",
    "- **Characteristics of $ s_m(t) $:**\n",
    "  - **Real-Valued:** Typically, $ s_m(t) $ is a **real-valued** function because it represents physical electrical signals, such as *voltage* or *current*, that vary over time.\n",
    "  - **Bandpass Signal:** \n",
    "    - **Bandpass Characteristics:** Most practical communication systems use **bandpass signals**, meaning $ s_m(t) $ occupies a specific frequency band centered around a carrier frequency. This is essential for efficient transmission over mediums like radio frequencies.\n",
    "    - Bandpass signals allow multiple communication channels to coexist without interference and are compatible with antenna transmission, which inherently operates in the bandpass domain.\n",
    "\n",
    "  - **General Form:**  \n",
    "    Waveforms $ s_m(t) $ used for transmission can take **any form**.\n",
    "\n",
    "  - **Typical Parameters:**  \n",
    "    Typically, these are **bandpass signals** that vary based on one or more of the following parameters:\n",
    "    - Amplitude\n",
    "    - Phase\n",
    "    - Frequency"
   ]
  },
  {
   "cell_type": "markdown",
   "metadata": {},
   "source": [
    "#### Forms of Waveform\n",
    "\n",
    "We state that $ s_m(t) $ can be of \"any form\" implies **theoretical flexibility** in designing waveforms to represent symbols. In practice, this means that designers can choose or design waveforms based on specific criteria such as bandwidth efficiency, power consumption, and resistance to noise.\n",
    "  \n",
    "- **Popular Waveform Examples:**\n",
    "  - **Rectangular Pulses:**\n",
    "    - **Description:** Simplest form with constant amplitude over the symbol duration.\n",
    "    - **Use Case:** Basic Pulse Amplitude Modulation (PAM).\n",
    "  \n",
    "  - **Sinc Pulses:**\n",
    "    - **Description:** Ideal for minimizing intersymbol interference (ISI) with their frequency-domain representation.\n",
    "    - **Use Case:** Theoretical models for bandwidth-limited channels.\n",
    "  \n",
    "  - **Gaussian Pulses:**\n",
    "    - **Description:** Smooth, bell-shaped pulses that reduce bandwidth and minimize ISI.\n",
    "    - **Use Case:** Gaussian Minimum Shift Keying (GMSK) used in GSM cellular networks.\n",
    "  \n",
    "  - **Sinusoidal Waveforms:**\n",
    "    - **Description:** Pure sine and cosine waves used as carriers.\n",
    "    - **Use Case:** Phase-Shift Keying (PSK) and Quadrature Amplitude Modulation (QAM).\n",
    "  \n",
    "  - **Raised Cosine Pulses:**\n",
    "    - **Description:** Pulses with controlled roll-off to balance bandwidth and ISI.\n",
    "    - **Use Case:** Widely used in digital communication systems for pulse shaping.\n",
    "  \n",
    "  - **Orthogonal Waveforms:**\n",
    "    - **Description:** Waveforms that are mathematically orthogonal, allowing multiple signals to coexist without interference.\n",
    "    - **Use Case:** Orthogonal Frequency-Division Multiplexing (OFDM).\n",
    "\n",
    "- **Choosing the Right Waveform:**\n",
    "  - **Application Requirements:** Different applications may prioritize factors like power efficiency, bandwidth constraints, or error rates.\n",
    "  - **Channel Conditions:** The presence of noise, interference, and multipath effects influence waveform selection.\n",
    "  - **Complexity and Cost:** Simpler waveforms may be preferred for cost-effective implementations, while more complex waveforms might offer better performance."
   ]
  },
  {
   "cell_type": "markdown",
   "metadata": {},
   "source": [
    "### Common Modulation Schemes\n",
    "\n",
    "Modulation schemes are categorized based on the signal parameter they manipulate:\n",
    "\n",
    "- **Amplitude-Based:**\n",
    "  - **Pulse Amplitude Modulation (PAM):** Varies the amplitude of pulses in proportion to the input signal.\n",
    "  - **Amplitude-Shift Keying (ASK):** Represents binary data by varying the amplitude of the carrier wave.\n",
    "\n",
    "- **Phase-Based:**\n",
    "  - **Phase-Shift Keying (PSK):** Alters the phase of the carrier signal to encode data (e.g., Binary PSK).\n",
    "\n",
    "- **Frequency-Based:**\n",
    "  - **Frequency-Shift Keying (FSK):** Changes the carrier frequency to represent digital data (e.g., Binary FSK).\n",
    "\n",
    "- **Combined Parameters:**\n",
    "  - **Quadrature Amplitude Modulation (QAM):** Combines both amplitude and phase variations to encode multiple bits per symbol."
   ]
  },
  {
   "cell_type": "markdown",
   "metadata": {},
   "source": [
    "**Why Map Symbols (Sequences of $ k $ Binary Bits) into a Signal Waveform?**\n",
    "\n",
    "- **Purpose of Symbol Mapping:**\n",
    "  - **Digital to Analog Conversion:** Communication channels, especially wireless and wired analog channels, are inherently analog. To transmit digital data (binary bits), it must be converted into analog signal waveforms.\n",
    "  - **Efficient Transmission:** Mapping symbols to waveforms enables the representation of multiple bits within a single symbol, enhancing data transmission rates and spectral efficiency.\n",
    "  \n",
    "- **Benefits of Mapping:**\n",
    "  - **Bandwidth Utilization:** By encoding multiple bits into a single symbol (e.g., using $ M $-ary modulation), the system can transmit more information within a given bandwidth.\n",
    "  - **Error Resilience:** Proper waveform design can improve resistance to noise and interference, reducing the probability of transmission errors.\n",
    "  - **Compatibility with Physical Medium:** Waveforms are tailored to match the characteristics of the transmission medium (e.g., radio waves, optical fibers), ensuring reliable signal propagation.\n",
    "\n",
    "- **Example Process:**\n",
    "  - **Bit Grouping:** A sequence of $ k $ binary bits is grouped into a single symbol $ m $ from an $ M $-ary alphabet ($ M = 2^k $).\n",
    "  - **Waveform Generation:** Each symbol $ m $ is associated with a unique waveform $ s_m(t) $, which is then transmitted over the channel."
   ]
  },
  {
   "cell_type": "markdown",
   "metadata": {},
   "source": [
    "### Error Probability\n",
    "\n",
    "**Definition:**  \n",
    "In an **equiprobable** $ M $-ary signaling scheme, where each of the $ M $ symbols is equally likely, the **error probability** $ P_e $ is the average likelihood that a transmitted symbol is incorrectly detected:\n",
    "\n",
    "$$\n",
    "P_e = \\frac{1}{M} \\sum_{m=1}^{M} \\Pr \\left( \\text{Error} \\mid m \\text{ sent} \\right)\n",
    "$$\n",
    "\n",
    "**Key Points:**  \n",
    "- **$ M $-ary Signaling:** Utilizes $ M $ distinct symbols for data representation.\n",
    "- **Equiprobable:** Each symbol has an equal probability of being transmitted.\n",
    "- **Error Probability:** Measures the reliability of the communication system, influenced by noise and interference."
   ]
  }
 ],
 "metadata": {
  "language_info": {
   "name": "python"
  }
 },
 "nbformat": 4,
 "nbformat_minor": 2
}
