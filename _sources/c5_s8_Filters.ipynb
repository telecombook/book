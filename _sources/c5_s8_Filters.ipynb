{
 "cells": [
  {
   "cell_type": "markdown",
   "metadata": {},
   "source": [
    "## Filtering Alternatives\n",
    "\n",
    "In the previous section, we demonstrated that an optimal detector in the presence of additive Gaussian noise can be constructed by using correlators. \n",
    "\n",
    "These correlators operate by computing the dot product of the measurement vector, denoted as $ \\vec{\\mathbf{y}} $, with each of two locally generated vectors, $ \\vec{h}_0^* $ and $ \\vec{h}_1^* $.\n",
    "\n",
    "If we consider the measurement vector $ \\vec{\\mathbf{y}} $ as a sequence of sampled values over time, it can be represented as follows:\n",
    "\n",
    "$$\n",
    "\\vec{\\mathbf{y}} = [\\mathbf{y}] = [\\mathbf{y}_1, \\mathbf{y}_2, \\ldots, \\mathbf{y}_k]^T\n",
    "$$\n",
    "\n",
    "where each $ \\mathbf{y}_i $ in the sequence is a sample taken at regular intervals, with $ T_s $ denoting the duration between consecutive sampling times.\n",
    "\n",
    "An alternative to using correlators in this context is to replace them with a **digital filter**. \n",
    "\n",
    "This filter would have an impulse response that is designed to achieve a similar effect to the correlator. \n",
    "\n",
    "In this approach, the digital filter processes the sampled sequence in such a way that it emphasizes or isolates the characteristics of the signal associated with the hypotheses represented by $ \\vec{h}_0^* $ and $ \\vec{h}_1^* $."
   ]
  },
  {
   "cell_type": "markdown",
   "metadata": {},
   "source": [
    "### Finite Impulse Response (FIR) Filter\n",
    "\n",
    "As an example, consider a finite impulse response (FIR) filter with tap coefficients defined as\n",
    "\n",
    "$$\n",
    "h_{0,k}^*, h_{0,k-1}^*, \\ldots, h_{0,2}^*, h_{0,1}^*\n",
    "$$\n",
    "\n",
    "These coefficients represent the filter’s weights at each tap, and they are designed to mirror the structure of the locally generated reference vector $ \\vec{h}_0^* $.\n",
    "\n",
    "If the input sequence $ \\{y\\} $ is processed by this FIR filter, and the reference vector $ \\vec{h}_0^* $ is defined as\n",
    "\n",
    "$$\n",
    "\\vec{h}_0^* = [h_0^*] = [h_{0,1}^*, h_{0,2}^*, \\ldots, h_{0,k}^*]\n",
    "$$\n",
    "\n",
    "then it can be shown that the output of the FIR filter at the $ k $-th sample exactly matches the output of the correlator when performing a dot product. Specifically, at this point, the filter output is given by:\n",
    "\n",
    "$$\n",
    "\\sum_{j=1}^k y_j h_{i,j}^*, \\quad i = 0, 1\n",
    "$$\n",
    "\n",
    "This result confirms that the FIR filter output, when properly configured, replicates the functionality of the correlator by producing an identical result at each sample point."
   ]
  },
  {
   "cell_type": "markdown",
   "metadata": {},
   "source": [
    "![Image](./Figures/fig_5_4.png)"
   ]
  },
  {
   "cell_type": "markdown",
   "metadata": {},
   "source": [
    "### Matched Filter\n",
    "\n",
    "If the noise in the system is white, we observe that the optimal sequence for the $ i $-th correlator, represented by $ \\vec{h}_i^* $, is proportional to the complex conjugate of the noise-free signal associated with that correlator, which we denote as $ \\vec{u}_i^* $.\n",
    "\n",
    "As a result, the matched filter in this scenario has an impulse response defined by:\n",
    "\n",
    "$$\n",
    "[h_i] = \\frac{1}{\\sigma^2} [u_{i,k}, u_{i,k-1}, \\ldots, u_{i,1}]\n",
    "$$\n",
    "\n",
    "This impulse response is effectively a scaled version of the sample-reversed, complex-conjugate version of the original noise-free signal. \n",
    "\n",
    "An important feature of this matched filter is that it maximizes the output signal-to-noise ratio (SNR), outperforming other filter types in this regard. \n",
    "\n",
    "This characteristic makes the matched filter especially useful in applications where maximizing SNR is critical for accurate signal detection and processing."
   ]
  },
  {
   "cell_type": "markdown",
   "metadata": {},
   "source": [
    "![Image](./Figures/fig_5_5.png)"
   ]
  },
  {
   "cell_type": "markdown",
   "metadata": {},
   "source": [
    "### [B2, Example 5.4]\n",
    "\n",
    "Consider a binary phase-shift keying (PSK) modulation example, where the transmitted bandpass signal during the $ i $-th signaling period can be modeled as follows:\n",
    "\n",
    "$$\n",
    "\\cos \\left[ 2 \\pi f_c t - (i - 1)T \\right] + d_i \\frac{\\pi}{2} , \\quad (i - 1)T \\leq t < iT \n",
    "$$\n",
    "\n",
    "Here, $ d_i $ is a digital random variable that takes on values of $ \\pm 1 $ with equal probability, representing the binary data being transmitted. \n",
    "\n",
    "For simplicity, we assume that $ f_c $, the carrier frequency, is an integer multiple of $ 1/T $, allowing us to express $ f_c $ as $ f_c = m/T $, where $ m $ is an integer. \n",
    "\n",
    "This assumption simplifies the transmitted signal model to the form:\n",
    "\n",
    "$$\n",
    "\\cos \\left[ 2 \\pi f_c t + d_i \\frac{\\pi}{2} \\right] = \\Re \\left[ e^{j d_i \\pi / 2} e^{j 2 \\pi f_c t} \\right], \\quad (i - 1)T \\leq t < iT \n",
    "$$\n",
    "\n",
    "This representation makes it possible to view the transmitted signal in terms of a complex exponential form, facilitating analysis in terms of phase.\n",
    "\n",
    "Consequently, a baseband equivalent of the received signal can be expressed as:\n",
    "\n",
    "$$\n",
    "y(t) = e^{j d_i \\pi / 2} + z(t)\n",
    "$$\n",
    "\n",
    "where $ z(t) $ represents a complex-valued white noise process, modeling the noise added during transmission.\n",
    "\n",
    "From this formulation, we identify the two possible transmitted signals as:\n",
    "\n",
    "$$\n",
    "u_1(t) = e^{j \\pi / 2} = j, \\quad (i - 1)T \\leq t < iT \n",
    "$$\n",
    "\n",
    "and\n",
    "\n",
    "$$\n",
    "u_0(t) = e^{-j \\pi / 2} = -j, \\quad (i - 1)T \\leq t < iT \n",
    "$$\n",
    "\n",
    "Since the signals $ u_1(t) $ and $ u_0(t) $ are constants throughout the bit duration $ T $, this implies that a matched filter designed for operation in white noise will also have constant tap coefficients."
   ]
  },
  {
   "cell_type": "markdown",
   "metadata": {},
   "source": [
    "![Image](./Figures/fig_5_6.png)"
   ]
  },
  {
   "cell_type": "markdown",
   "metadata": {},
   "source": [
    "### MATLAB Examples\n",
    "- [Signal Detection in White Gaussian Noise](https://www.mathworks.com/help/phased/ug/signal-detection-in-white-gaussian-noise.html)\n",
    "- [Signal Detection Using Multiple Samples](https://www.mathworks.com/help/phased/ug/signal-detection-using-multiple-samples.html)"
   ]
  }
 ],
 "metadata": {
  "kernelspec": {
   "display_name": "env1",
   "language": "python",
   "name": "python3"
  },
  "language_info": {
   "codemirror_mode": {
    "name": "ipython",
    "version": 3
   },
   "file_extension": ".py",
   "mimetype": "text/x-python",
   "name": "python",
   "nbconvert_exporter": "python",
   "pygments_lexer": "ipython3",
   "version": "3.12.4"
  }
 },
 "nbformat": 4,
 "nbformat_minor": 2
}
