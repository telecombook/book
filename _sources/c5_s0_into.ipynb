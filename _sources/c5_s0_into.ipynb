{
 "cells": [
  {
   "cell_type": "markdown",
   "metadata": {},
   "source": [
    "# Chapter 5:  Vector and Multi-Hypothesis Detection"
   ]
  },
  {
   "cell_type": "markdown",
   "metadata": {},
   "source": [
    "In Chapter 2, we introduced the fundamental concepts of decision theory, focusing primarily on single-sample scenarios to simplify the explanations.\n",
    "\n",
    "In this chapter, we extend these concepts to more practical problems involving two or more measurement samples. We utilize these multiple samples to decide between the two hypotheses, $ H_0 $ and $ H_1 $.\n",
    "\n",
    "We present several straightforward examples where multiple samples are available, including:\n",
    "- **Time measurements**\n",
    "- **Frequency measurements**\n",
    "- **Spatial measurements**\n",
    "- **Other types of measurements**\n",
    "\n",
    "This section serves as a brief introduction to the concept of multiple (discrete) measurements associated with one of the two hypotheses. Additional examples are provided throughout the chapter and in the problem sets.\n",
    "\n",
    "Next, we revisit the four detection criteria introduced in Chapter 2:\n",
    "- **Bayes Criterion**\n",
    "- **Maximum A Posteriori (MAP)**\n",
    "- **Minimax**\n",
    "- **Neyman-Pearson**\n",
    "\n",
    "In these sections, we demonstrate that the theory of detection based on multiple measurements closely parallels that based on a single measurement.\n",
    "\n",
    "Subsequently, we focus on the specific but important case of receivers operating in a white Gaussian noise environment. We expand the results from multiple discrete measurements to continuous measurements.\n",
    "\n",
    "Following this, we examine the practical consideration of the **matched filter**. It is important to note that while the matched filter is a key signal-processing tool in the implementation of detection circuits, its theoretical impact is more modest.\n",
    "\n",
    "Finally, we study the performance of binary receivers, introducing the important concept of **signal space**. We then analyze performance in terms of error probability."
   ]
  },
  {
   "cell_type": "markdown",
   "metadata": {},
   "source": [
    "## References\n",
    "\n",
    "The contents of the sections in this chapter are based on the following materials.\n",
    "\n",
    "* T. Schonhoff and A. Giordano, _Detection and Estimation Theory and its Applications_. Prentice Hall, 2006 , Chapter 5"
   ]
  }
 ],
 "metadata": {
  "language_info": {
   "name": "python"
  }
 },
 "nbformat": 4,
 "nbformat_minor": 2
}
