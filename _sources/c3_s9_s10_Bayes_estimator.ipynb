{
 "cells": [
  {
   "cell_type": "markdown",
   "metadata": {},
   "source": [
    "## Bayes Estimation\n",
    "\n",
    "Classical estimation theory involves the estimate of unknown but deterministic parameters. \n",
    "\n",
    "However, it is often possible to model the parameter to be estimated as a random variable $\\boldsymbol{\\alpha}$ with some postulated distribution $p(\\alpha)$, referred to as the *a priori* pdf. \n",
    "\n",
    "For example, suppose there are many values for the sample mean collected over some period of time. \n",
    "\n",
    "Bayesian methods allow the introduction of this data via the assumed distribution of the sample mean. "
   ]
  },
  {
   "cell_type": "markdown",
   "metadata": {},
   "source": [
    "### Weighting Function\n",
    "\n",
    "There may also be a weighting function that incorporates the cost $C(\\boldsymbol{\\alpha}, \\hat{\\boldsymbol{\\alpha}}(\\vec{\\mathbf{y}}))$, also referred to by some authors as a loss, introduced by the error $\\boldsymbol{\\alpha}_e$ between the estimate and its true value and defined by\n",
    "\n",
    "$$ \\boxed{\n",
    "\\boldsymbol{\\alpha}_e = \\boldsymbol{\\alpha} - \\hat{\\boldsymbol{\\alpha}}(\\vec{\\mathbf{y}}) \\qquad \\text{(C3.78)}\n",
    "}\n",
    "$$\n",
    "\n",
    "An example of such a weighting function is the mean-squared error between the estimate $\\hat{\\boldsymbol{\\alpha}}(\\vec{y})$ and the parameter $\\boldsymbol{\\alpha}$. \n",
    "\n",
    "This cost is the counterpart of that observed in detection theory as described."
   ]
  },
  {
   "cell_type": "markdown",
   "metadata": {},
   "source": [
    "### Average Risk\n",
    "\n",
    "Similarly, an average risk $\\mathcal{R}$ is obtained by averaging the cost over $p(\\alpha, \\vec{y})$, the joint pdf of the parameter $\\boldsymbol{\\alpha}$, and the observable $\\vec{\\mathbf{y}}$ according to\n",
    "\n",
    "$$ \\boxed{\n",
    "\\mathcal{R} = E\\{C(\\boldsymbol{\\alpha}, \\hat{\\boldsymbol{\\alpha}}(\\vec{\\mathbf{y}}))\\} \n",
    "= \\int_{-\\infty}^{\\infty} \\int_{-\\infty}^{\\infty} C(\\alpha, \\hat{\\alpha}(\\vec{y})) p(\\alpha, \\vec{y}) \\, d\\alpha \\, d\\vec{y} \\qquad \\text{(C3.79)}\n",
    "}\n",
    "$$\n",
    "\n",
    "**Objective.** Minimizing this average risk yields a Bayes estimate. "
   ]
  },
  {
   "cell_type": "markdown",
   "metadata": {},
   "source": [
    "### Conditional Cost\n",
    "\n",
    "The conditional cost $C_c(\\hat{\\boldsymbol{\\alpha}}(\\vec{\\mathbf{y}})|\\vec{y})$ is defined as\n",
    "\n",
    "$$ \\boxed{\n",
    "C_c(\\hat{\\boldsymbol{\\alpha}}|\\vec{y}) \n",
    "= \\int_{-\\infty}^{\\infty} C(\\alpha, \\hat{\\alpha}(\\vec{y})) p(\\alpha|\\vec{y}) \\, d\\alpha \\qquad \\text{(C3.80)}\n",
    "}\n",
    "$$\n",
    "\n",
    "Note that this is a correction of [B2, Eq. (10.80)].\n",
    "\n",
    "so that an alternative expression for the average risk can be expressed as\n",
    "\n",
    "$$\n",
    "\\mathcal{R} = \\int_{-\\infty}^{\\infty} p(\\vec{y}) C_c(\\hat{\\alpha}(\\vec{y})|\\vec{y}) \\, d\\vec{y} \\qquad \\text{(C3.81)}\n",
    "$$\n",
    "\n",
    "Since the pdf of the observable is positive over the range of its outcomes, *minimizing the average risk is accomplished by minimizing the conditional risk*."
   ]
  },
  {
   "cell_type": "markdown",
   "metadata": {},
   "source": [
    "#### Average Risk as a Function of Conditional Cost\n",
    "\n",
    "To derive equation (C3.81) from equations (C3.79) and (C3.80), we start by examining the expression for the average risk $\\mathcal{R}$ given in equation (C3.79):\n",
    "\n",
    "$$ \n",
    "\\mathcal{R} = \\int_{-\\infty}^{\\infty} \\int_{-\\infty}^{\\infty} C(\\alpha, \\hat{\\alpha}(\\vec{y}))\\, p(\\alpha, \\vec{y}) \\, d\\alpha \\, d\\vec{y}\n",
    "$$\n",
    "\n",
    "Here, $C(\\alpha, \\hat{\\alpha}(\\vec{y}))$ is the cost function, and $p(\\alpha, \\vec{y})$ is the joint probability density function (pdf) of the parameter $\\alpha$ and the observable $\\vec{y}$.\n",
    "\n",
    "Next, we recognize that the joint pdf $p(\\alpha, \\vec{y})$ can be factored using Bayes' theorem:\n",
    "\n",
    "$$\n",
    "p(\\alpha, \\vec{y}) = p(\\alpha|\\vec{y})\\, p(\\vec{y})\n",
    "$$\n",
    "\n",
    "Substituting this into the expression for $\\mathcal{R}$:\n",
    "\n",
    "$$\n",
    "\\mathcal{R} = \\int_{-\\infty}^{\\infty} \\int_{-\\infty}^{\\infty} C(\\alpha, \\hat{\\alpha}(\\vec{y}))\\, p(\\alpha|\\vec{y})\\, p(\\vec{y}) \\, d\\alpha \\, d\\vec{y}\n",
    "$$\n",
    "\n",
    "Since $p(\\vec{y})$ does not depend on $\\alpha$, we can factor it out of the inner integral:\n",
    "\n",
    "$$\n",
    "\\mathcal{R} = \\int_{-\\infty}^{\\infty} \\left[ p(\\vec{y}) \\int_{-\\infty}^{\\infty} C(\\alpha, \\hat{\\alpha}(\\vec{y}))\\, p(\\alpha|\\vec{y})\\, d\\alpha \\right] d\\vec{y}\n",
    "$$\n",
    "\n",
    "The inner integral is the definition of the conditional cost $C_c(\\hat{\\alpha}(\\vec{y})|\\vec{y})$ as given in equation (C3.80):\n",
    "\n",
    "$$\n",
    "C_c(\\hat{\\alpha}(\\vec{y})|\\vec{y}) = \\int_{-\\infty}^{\\infty} C(\\alpha, \\hat{\\alpha}(\\vec{y}))\\, p(\\alpha|\\vec{y})\\, d\\alpha\n",
    "$$\n",
    "\n",
    "Substituting this back into our expression for $\\mathcal{R}$:\n",
    "\n",
    "$$\n",
    "\\mathcal{R} = \\int_{-\\infty}^{\\infty} p(\\vec{y})\\, C_c(\\hat{\\alpha}(\\vec{y})|\\vec{y})\\, d\\vec{y}\n",
    "$$\n",
    "\n",
    "This is equation (C3.81), which expresses the average risk $\\mathcal{R}$ in terms of the observable's pdf $p(\\vec{y})$ and the conditional cost $C_c(\\hat{\\alpha}(\\vec{y})|\\vec{y})$. "
   ]
  },
  {
   "cell_type": "markdown",
   "metadata": {},
   "source": [
    "### Mathematical Formulation of the Bayes Estimator\n",
    "\n",
    "An alternative and insightful way to introduce Bayes estimation is by observing that, from a mathematical standpoint, the estimator is derived from Equation (C3.80) and can be expressed as\n",
    "\n",
    "$$ \\boxed{\n",
    "\\hat{\\boldsymbol{\\alpha}}_B \n",
    "= \\arg\\min_{\\hat{\\boldsymbol{\\alpha(\\vec{\\mathbf{y}})}}} E\\{C(\\boldsymbol{\\alpha}, \\hat{\\boldsymbol{\\alpha}})\\} \n",
    "= \\arg\\min_{\\hat{\\boldsymbol{\\alpha}(\\vec{\\mathbf{y}})}} \\int_{-\\infty}^{\\infty} C(\\alpha, \\hat{\\alpha})\\, p(\\alpha | \\vec{y})\\, d\\alpha\n",
    "}\n",
    "$$\n"
   ]
  },
  {
   "cell_type": "markdown",
   "metadata": {},
   "source": [
    "The *a posteriori* distribution is obtained from Bayes' theorem and can be written as\n",
    "\n",
    "$$\n",
    "p(\\alpha|\\vec{y}) = \\frac{p(\\vec{y}|\\alpha) p(\\alpha)}{\\int_{-\\infty}^{\\infty} p(\\vec{y}|\\alpha) p(\\alpha) \\, d\\alpha}\n",
    "$$\n",
    "\n",
    "where $ p(\\vec{y}|\\alpha) $ is referred to as the likelihood distribution, since it provides the current observations reflecting the value of the parameter $\\alpha$."
   ]
  },
  {
   "cell_type": "markdown",
   "metadata": {},
   "source": [
    "### Some Specific Cost Functions\n",
    "\n",
    "To proceed further, a cost function must be selected. \n",
    "\n",
    "Examples of cost functions include:\n",
    "\n",
    "1. **Squared-error cost function**, defined by\n",
    "\n",
    "   $$\n",
    "   C_S(\\alpha, \\hat{\\alpha}(\\vec{y})) = (\\alpha - \\hat{\\alpha}(\\vec{y}))^2 = \\alpha_e^2\n",
    "   $$\n",
    "\n",
    "2. **Uniform cost function** defined by\n",
    "\n",
    "   $$\n",
    "   C_U(\\alpha, \\hat{\\alpha}(\\vec{y})) = \n",
    "   \\begin{cases}\n",
    "   0, & |\\alpha_e| < \\frac{\\Delta}{2} \\\\\n",
    "   1, & |\\alpha_e| > \\frac{\\Delta}{2}\n",
    "   \\end{cases}\n",
    "   $$\n",
    "\n",
    "   where $\\Delta$ is a small number.\n",
    "\n",
    "3. **Absolute-error cost function**, defined by\n",
    "\n",
    "   $$\n",
    "   C_{AE}(\\alpha, \\hat{\\alpha}(\\vec{y})) = |\\alpha_e|\n",
    "   $$"
   ]
  },
  {
   "cell_type": "markdown",
   "metadata": {},
   "source": [
    "### Discussion: Sequential Learning in Bayesian Estimation\n",
    "\n",
    "From the previous discussion, it becomes evident that a Bayes estimate relies on the *a posteriori* distribution, which requires knowledge of both the *a priori* distribution and the likelihood function. \n",
    "\n",
    "The *a priori* distribution encapsulates our understanding of the parameter before any data is observed. \n",
    "\n",
    "Once data is collected, this knowledge is updated, leading to a new *a posteriori* distribution. \n",
    "\n",
    "This process highlights Bayesian estimation as a form of sequential learning.\n",
    "\n",
    "If an additional independent data set $\\vec{x}$ becomes available after measuring $\\vec{y}$, we can update our estimates using a sequential version of Bayes' theorem:\n",
    "\n",
    "$$\n",
    "\\begin{align*}\n",
    "p(\\alpha|\\vec{x}, \\vec{y}) \n",
    "&= \\frac{p(\\vec{x}, \\vec{y}|\\alpha)p(\\alpha)}{\\int_{-\\infty}^{\\infty} p(\\vec{x}, \\vec{y}|\\alpha)p(\\alpha) \\, d\\alpha} \\\\\n",
    "&= \\frac{p(\\vec{x}|\\alpha)p(\\vec{y}|\\alpha)p(\\alpha)}{\\int_{-\\infty}^{\\infty} p(\\vec{x}, \\vec{y}|\\alpha)p(\\alpha) \\, d\\alpha} \\\\\n",
    "&= \\frac{p(\\alpha|\\vec{x})p(\\vec{y}|\\alpha)}{\\int_{-\\infty}^{\\infty} p(\\alpha|\\vec{x})p(\\vec{y}|\\alpha) \\, d\\alpha}\n",
    "\\end{align*}\n",
    "$$\n",
    "\n",
    "This equation demonstrates how to update the posterior probability $p(\\alpha|\\vec{x}, \\vec{y})$ of the parameter $\\alpha$ given both data sets $\\vec{x}$ and $\\vec{y}$. \n",
    "\n",
    "- **Joint Likelihood:** The numerator $p(\\vec{x}, \\vec{y}|\\alpha)p(\\alpha)$ represents the joint likelihood of observing both data sets given $\\alpha$, multiplied by the prior probability of $\\alpha$.\n",
    "\n",
    "- **Independence Assumption:** Since $\\vec{x}$ and $\\vec{y}$ are independent given $\\alpha$, we can factor the joint likelihood as $p(\\vec{x}|\\alpha)p(\\vec{y}|\\alpha)$.\n",
    "\n",
    "- **Sequential Updating:** The expression $\\frac{p(\\alpha|\\vec{x})p(\\vec{y}|\\alpha)}{\\int_{-\\infty}^{\\infty} p(\\alpha|\\vec{x})p(\\vec{y}|\\alpha) \\, d\\alpha}$ shows that the posterior after observing $\\vec{x}$ serves as the *new prior* when updating with $\\vec{y}$.\n",
    "\n",
    "- **Normalization:** The denominator ensures that the posterior probability distribution $p(\\alpha|\\vec{x}, \\vec{y})$ integrates to one."
   ]
  }
 ],
 "metadata": {
  "kernelspec": {
   "display_name": "env1",
   "language": "python",
   "name": "python3"
  },
  "language_info": {
   "codemirror_mode": {
    "name": "ipython",
    "version": 3
   },
   "file_extension": ".py",
   "mimetype": "text/x-python",
   "name": "python",
   "nbconvert_exporter": "python",
   "pygments_lexer": "ipython3",
   "version": "3.12.4"
  }
 },
 "nbformat": 4,
 "nbformat_minor": 2
}
