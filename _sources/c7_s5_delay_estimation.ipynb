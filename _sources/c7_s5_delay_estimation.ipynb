{
 "cells": [
  {
   "cell_type": "markdown",
   "metadata": {},
   "source": [
    "## Time Delay Estimation in AWGN\n",
    "\n",
    "Time-delay estimation, also termed time-of-arrival (TOA) estimation, is a common problem in radar and communications. \n",
    "\n",
    "In radar a pulse is emitted at the transmitter, and after reflection from a target it is received with a $\\tau$-second roundtrip delay. \n",
    "\n",
    "In general, the random variable $\\tau$ can assume a continuum of values, so that the continuous version of the received signal is assumed, i.e.,\n",
    "\n",
    "$$\n",
    "y(t) = as(t - \\tau) + n(t)\n",
    "$$\n",
    "\n",
    "Note that, in practice, discrete processing and sampling are often employed, with the continuous signal being approximated by interpolation of samples."
   ]
  },
  {
   "cell_type": "markdown",
   "metadata": {},
   "source": [
    "### MAP Estimation\n",
    "\n",
    "A MAP estimate can be obtained by solving the following equation\n",
    "\n",
    "$$\n",
    "\\frac{a}{\\sigma^2} \\int_0^{T_I} \\left[ y(t) - as(t - \\tau) \\right] \\frac{\\partial s(t - \\tau)}{\\partial \\tau} dt + \\frac{\\partial}{\\partial \\tau} \\ln p(\\tau) = 0 \n",
    "$$\n",
    "\n",
    "where $T_I$ is the integration interval.\n",
    "\n",
    "Note that the integration interval should be longer than the pulse interval but short enough to make a decision as rapidly as possible in order to avoid noise accumulation in the estimate. \n"
   ]
  },
  {
   "cell_type": "markdown",
   "metadata": {},
   "source": [
    "### ML Estimation\n",
    "\n",
    "Assuming no knowledge of the a priori pdf $p(\\tau)$, or equivalently assuming that the pdf of $\\tau$ is uniformly distributed.\n",
    "\n",
    "A ML estimate can be derived as a solution to the equation\n",
    "\n",
    "$$\n",
    "\\int_0^{T_I} \\left[ y(t) - as(t - \\hat{\\tau}_{ML}) \\right] \\frac{\\partial s(t - \\hat{\\tau}_{ML})}{\\partial \\hat{\\tau}_{ML}} dt = 0\n",
    "$$\n",
    "\n",
    "The transmitted signal $s(t)$ is typically a symmetric pulse. \n",
    "\n",
    "Note that the second term is the integral of a symmetric function multiplied by its derivative and is therefore zero. \n",
    "\n",
    "Under this condition, the preceding equation can be written as\n",
    "\n",
    "$$\n",
    "\\int_0^{T_I} y(t) \\frac{\\partial s(t - \\hat{\\tau}_{ML})}{\\partial \\hat{\\tau}_{ML}} dt = 0\n",
    "$$\n",
    "\n",
    "This equation must be solved for the estimate $\\hat{\\tau}_{ML}$. "
   ]
  },
  {
   "cell_type": "markdown",
   "metadata": {},
   "source": [
    "### Delay-Locked Loop (DLL)\n",
    "\n",
    "A phased-locked loop (PLL) can be used to implement the time-delay estimate, as shown in Figure 11.13 [B2]. \n",
    "\n",
    "![Fig 11.13](./Figures/fig_11_13.png)\n",
    "\n",
    "When a tracking loop is implemented in this fashion, it is often referred to as a delay-locked loop (DLL)."
   ]
  },
  {
   "cell_type": "markdown",
   "metadata": {},
   "source": [
    "### Cramér-Rao Bound and Minimum Variance\n",
    "\n",
    "The Cramér-Rao bound for the delay estimate can be obtained in the case of an unbiased estimate by evaluating the minimum variance of the continuos case (introduced before) for amplitude estimation, i.e.,\n",
    "\n",
    "$$\n",
    "\\sigma^2_{\\text{min}}(\\hat{\\alpha}) = \\frac{\\sigma^2}{\\int_0^T \\left( \\frac{\\partial s(t, \\alpha)}{\\partial \\alpha} \\right)^2 dt}\n",
    "$$\n",
    "\n",
    "with the assumption that the signal is zero outside the interval $(0, T)$, i.e.,\n",
    "\n",
    "$$\n",
    "\\sigma^2_{\\text{min}}(\\hat{\\tau}) = \\frac{\\sigma^2}{a^2 \\int_{-\\infty}^\\infty \\left[ \\frac{\\partial s(t - \\tau)}{\\partial \\tau} \\right]^2 dt}\n",
    "$$\n",
    "\n",
    "To evaluate the previous equation let $v(t) = \\frac{\\partial s(t - \\tau)}{\\partial \\tau}$ and apply Parseval's theorem, i.e.,\n",
    "\n",
    "$$\n",
    "\\int_{-\\infty}^\\infty v^2(t) dt = \\int_{-\\infty}^\\infty |V(f)|^2 df\n",
    "$$\n",
    "\n",
    "where $V(f)$ is the Fourier transform of $v(t)$. "
   ]
  },
  {
   "cell_type": "markdown",
   "metadata": {},
   "source": [
    "The Fourier transform $V(f)$ is computed in terms of $S(f)$, the Fourier transform of $s(t)$, i.e.,\n",
    "\n",
    "$$\n",
    "\\begin{align*}\n",
    "V(f) &= \\int_{-\\infty}^\\infty v(t)e^{-j2\\pi ft} dt \\\\\n",
    "&= \\int_{-\\infty}^\\infty \\frac{\\partial s(t - \\tau)}{\\partial \\tau} e^{-j2\\pi ft} dt \\\\\n",
    "&= \\frac{\\partial}{\\partial \\tau} \\int_{-\\infty}^\\infty s(t - \\tau)e^{-j2\\pi ft} dt \\\\\n",
    "&= \\frac{\\partial}{\\partial \\tau} e^{-j2\\pi f \\tau} S(f) \\\\\n",
    "&= -j 2\\pi f e^{-j2\\pi f \\tau} S(f)\n",
    "\\end{align*}\n",
    "$$\n",
    "\n",
    "Combining above steps leads to\n",
    "\n",
    "$$\n",
    "\\sigma^2_{\\text{min}}(\\hat{\\tau}) = \\frac{\\sigma^2}{a^2 \\int_{-\\infty}^\\infty (2\\pi f)^2 |S(f)|^2 df}\n",
    "$$"
   ]
  },
  {
   "cell_type": "markdown",
   "metadata": {},
   "source": [
    "Since the signal energy $\\mathcal{E}$ can be expressed as\n",
    "\n",
    "$$\n",
    "\\mathcal{E} = \\int_{-\\infty}^\\infty |S(f)|^2 df\n",
    "$$\n",
    "\n",
    "Thus, $\\sigma^2_{\\text{min}}(\\hat{\\tau})$ can be rewritten as\n",
    "\n",
    "$$\n",
    "\\sigma^2_{\\text{min}}(\\hat{\\tau}) = \\frac{1}{a^2 B_s \\mathcal{E} / \\sigma^2} \n",
    "$$\n",
    "\n",
    "where the parameter $B_s$ is known as the effective bandwidth of the signal and is given by\n",
    "\n",
    "$$\n",
    "B_s = \\frac{\\int_{-\\infty}^\\infty (2\\pi f)^2 |S(f)|^2 df}{\\int_{-\\infty}^\\infty |S(f)|^2 df}\n",
    "$$\n",
    "\n",
    "This result can be extended to narrowband signals rather than lowpass signals using complex lowpass equivalent representations.\n"
   ]
  },
  {
   "cell_type": "markdown",
   "metadata": {},
   "source": [
    "### Example: ML Estimation For Certain Signals\n",
    "\n",
    "For certain signals an explicit representation of the estimate $\\hat{\\tau}_{ML}$ can be obtained. \n",
    "\n",
    "Consider the case \n",
    "\n",
    "$$\n",
    "s(t) = \\sin 2\\pi f_0 t\n",
    "$$\n",
    "\n",
    "where $f_0 = \\frac{1}{T_0}$. \n",
    "\n",
    "Then, the integral for ML estimation above, i.e.,\n",
    "\n",
    "$$\n",
    "\\int_0^{T_I} y(t) \\frac{\\partial s(t - \\hat{\\tau}_{ML})}{\\partial \\hat{\\tau}_{ML}} dt = 0 \n",
    "$$\n",
    "\n",
    "becomes\n",
    "\n",
    "$$\n",
    "\\int_0^{T_I} y(t) \\cos 2\\pi f_0(t - \\hat{\\tau}) dt = 0 \n",
    "$$\n",
    "\n",
    "or\n",
    "\n",
    "$$\n",
    "\\begin{align*}\n",
    "&\\cos 2\\pi f_0 \\hat{\\tau} \\int_0^{T_I} y(t) \\cos 2\\pi f_0 t \\, dt \\\\\n",
    "+\\, &\\sin 2\\pi f_0 \\hat{\\tau} \\int_0^{T_I} y(t) \\sin 2\\pi f_0 t \\, dt = 0 \n",
    "\\end{align*}\n",
    "$$\n",
    "\n",
    "or, solving for the estimate\n",
    "\n",
    "$$\n",
    "\\hat{\\tau}_{ML} = \\frac{T_0}{2\\pi} \\tan^{-1} \\left[ \\frac{-\\int_0^{T_I} y(t) \\cos 2\\pi f_0 t \\, dt}{\\int_0^{T_I} y(t) \\sin 2\\pi f_0 t \\, dt} \\right] \n",
    "$$\n",
    "\n",
    "This equation is essentially that encountered in discrete form as a phase estimate."
   ]
  },
  {
   "cell_type": "markdown",
   "metadata": {},
   "source": [
    "### Time-Delay Error\n",
    "\n",
    "The time-delay error, $\\tau_e = \\tau - \\hat{\\tau}_{ML}$, is related to the phase error by $\\tau_e = \\frac{\\theta_e}{2\\pi f_0}$. \n",
    "\n",
    "In the high-SNR case, $\\tau_e$ is a zero-mean, Gaussian random variable with a variance given by\n",
    "\n",
    "$$\n",
    "\\sigma^2_{\\tau_e} = \\frac{1}{(2\\pi f_0)^2} \\frac{1}{a^2 \\mathcal{E} / \\sigma^2}.\n",
    "$$\n",
    "\n",
    "Therefore, the delay estimate is unbiased and, for high signal-to-noise ratio, is efficient."
   ]
  },
  {
   "cell_type": "markdown",
   "metadata": {},
   "source": [
    "### Matlab Example\n",
    "\n",
    "* [Group Delay Estimation in Simulink](https://www.mathworks.com/help/dsp/ug/group-delay-estimation.html)"
   ]
  }
 ],
 "metadata": {
  "language_info": {
   "name": "python"
  }
 },
 "nbformat": 4,
 "nbformat_minor": 2
}
