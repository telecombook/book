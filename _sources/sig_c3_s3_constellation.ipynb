{
 "cells": [
  {
   "cell_type": "markdown",
   "metadata": {},
   "source": [
    "## Constellations"
   ]
  },
  {
   "cell_type": "markdown",
   "metadata": {},
   "source": [
    "### Dimensionality of the Signal Space\n",
    "\n",
    "The **dimensionality** $ N $ of the signal space equals $ M $ (the number of input waveforms) if and only if all the waveforms are linearly independent. If one or more waveforms are linear combinations of others, the dimensionality is reduced."
   ]
  },
  {
   "cell_type": "markdown",
   "metadata": {},
   "source": [
    "\n",
    "### Signal Space Representation (Constellation)\n",
    "\n",
    "After constructing a set of **orthonormal waveforms** $ \\{\\phi_n(t)\\} $, we can express the $ M $ signals $ \\{s_m(t)\\} $ as **linear combinations** of these waveforms. Specifically:  \n",
    "\n",
    "$$\n",
    "s_m(t) = \\sum_{n=1}^{N} s_{mn} \\phi_n(t), \\quad m = 1, 2, \\ldots, M\n",
    "$$  \n",
    "\n",
    "Each signal $ s_m(t) $ can then be represented as a **vector** in the $ N $-dimensional signal space:  \n",
    "\n",
    "$$\n",
    "\\vec{s}_m = [s_{m1}, s_{m2}, \\ldots, s_{mN}]^{\\sf T}\n",
    "$$  \n",
    "\n",
    "This vector corresponds to a point in the $ N $-dimensional (real or complex) signal space, where the coordinates are $ \\{s_{mn}, n = 1, 2, \\ldots, N\\} $.\n",
    "\n",
    "#### Definition: Signal Space Representation\n",
    "\n",
    "A set of $ M $ signals $ \\{s_m(t)\\}_{m=1}^M $ can be represented by a set of $ M $ vectors $ \\{\\vec{s}_m\\}_{m=1}^M $ in an $ N $-dimensional space, where $ N \\leq M $.  \n",
    "\n",
    "This set of vectors is called the **signal space representation**, or the **constellation**, of the signal set $ \\{s_m(t)\\}_{m=1}^M $.\n",
    "\n",
    "#### Real vs. Complex Signal Space\n",
    "- If the original signals $ s_m(t) $ are **real**, their vector representations lie in $ \\mathbb{R}^N $.  \n",
    "- If the signals are **complex**, their vector representations lie in $ \\mathbb{C}^N $.  \n",
    "\n",
    "This representation allows signals to be visualized as points or vectors in the signal space, making it easier to analyze properties such as orthogonality, distance, and error performance.  "
   ]
  },
  {
   "cell_type": "markdown",
   "metadata": {},
   "source": [
    "### Bandpass and Lowpass Orthonormal Basis\n",
    "\n",
    "#### Bandpass Signal Representation  \n",
    "\n",
    "Consider a set of **bandpass signal waveforms** represented as:  \n",
    "\n",
    "$$\n",
    "s_m(t) = \\Re\\{s_{ml}(t)e^{j2\\pi f_0 t}\\}, \\quad m = 1, 2, \\ldots, M\n",
    "$$  \n",
    "\n",
    "where:  \n",
    "- $ s_{ml}(t) $ denotes the **lowpass equivalent signals**.  \n",
    "- $ f_0 $ is the center frequency of the bandpass signal.  \n",
    "\n",
    "Recall that if two lowpass equivalent signals are orthogonal, their corresponding bandpass signals are also orthogonal.\n",
    "\n",
    "#### Lowpass to Bandpass Basis Transformation  \n",
    "\n",
    "If $ \\{\\phi_{nl}(t), n = 1, \\ldots, N\\} $ is an **orthonormal basis** for the set of lowpass signals $ \\{s_{ml}(t)\\} $, we can transform this into a set of functions for the corresponding bandpass signals:  \n",
    "\n",
    "$$\n",
    "\\phi_n(t) = \\sqrt{2} \\Re\\{\\phi_{nl}(t)e^{j2\\pi f_0 t}\\}, \\quad n = 1, 2, \\ldots, N\n",
    "$$  \n",
    "\n",
    "The factor $ \\sqrt{2} $ ensures that each $ \\phi_n(t) $ has **unit energy**.\n",
    "\n",
    "#### Limitations of the Bandpass Basis  \n",
    "\n",
    "However, this transformed set $ \\{\\phi_n(t)\\} $ is **not necessarily an orthonormal basis** for expanding the entire set of signals $ \\{s_m(t), m = 1, \\ldots, M\\} $. Specifically:  \n",
    "- There is no guarantee that $ \\{\\phi_n(t)\\} $ forms a **complete basis** for the expansion of $ \\{s_m(t)\\} $.  \n",
    "- A complete basis must span the entire subspace of bandpass signals $ \\{s_m(t)\\} $.  \n",
    "\n",
    "The goal is to determine how to construct an **orthonormal basis** for representing bandpass signals using the orthonormal basis for their lowpass equivalents. This involves ensuring that the transformed basis $ \\{\\phi_n(t)\\} $ spans the same signal space as $ \\{s_m(t)\\} $, thereby achieving a complete and orthonormal representation for the bandpass signals."
   ]
  }
 ],
 "metadata": {
  "language_info": {
   "name": "python"
  }
 },
 "nbformat": 4,
 "nbformat_minor": 2
}
