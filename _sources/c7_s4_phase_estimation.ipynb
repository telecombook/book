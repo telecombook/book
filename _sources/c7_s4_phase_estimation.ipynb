{
 "cells": [
  {
   "cell_type": "markdown",
   "metadata": {},
   "source": [
    "## Phase Estimation in AWGN"
   ]
  },
  {
   "cell_type": "markdown",
   "metadata": {},
   "source": [
    "In this section, the phase $ \\theta $ in the measured signal $ y_i = a \\sin(\\beta i + \\theta) + n_i $, $ 1 \\leq i \\leq k $, is to be estimated. \n",
    "\n",
    "### Conditional PDF\n",
    "\n",
    "For convenience, the conditional pdf of the received signal (for non-coherent detection in AWGN) is \n",
    "\n",
    "$$\n",
    "p(\\vec{y}|a, \\theta) = \\kappa_1 \\exp \\left( \\frac{a y_I}{\\sigma^2} \\cos \\theta + \\frac{a y_Q}{\\sigma^2} \\sin \\theta - \\frac{a^2 k}{4 \\sigma^2} \\right)\n",
    "$$\n",
    "\n",
    "where $ \\kappa_1 $ is a constant independent of both $ a $ and $ \\theta $. \n",
    "\n",
    "An ML estimate for the phase can be obtained by computing the maximum of $ \\ln p(\\vec{y}|a, \\theta) $, i.e.,\n",
    "\n",
    "$$\n",
    "\\frac{\\partial}{\\partial \\theta} \\ln p(\\vec{y}|a, \\theta) = -\\frac{a y_I}{\\sigma^2} \\sin \\hat{\\theta} + \\frac{a y_Q}{\\sigma^2} \\cos \\hat{\\theta} = 0\n",
    "$$\n",
    "\n",
    "Ignoring the meaningless solution $ a = 0 $, this equation can be solved for the ML estimate $ \\hat{\\theta}_{ML} $, yielding\n",
    "\n",
    "$$\n",
    "\\boxed{\n",
    "\\hat{\\theta}_{ML} = \\tan^{-1} \\frac{y_Q}{y_I}, \\quad -\\pi \\leq \\hat{\\theta}_{ML} \\leq \\pi\n",
    "}\n",
    "$$\n",
    "\n",
    "where \n",
    "\n",
    "$$\n",
    "\\begin{align*}\n",
    "y_I &= \\sum_{i=1}^k y_i \\sin \\beta i \\\\\n",
    "y_Q &= \\sum_{i=1}^k y_i \\cos \\beta i\n",
    "\\end{align*}\n",
    "$$"
   ]
  },
  {
   "cell_type": "markdown",
   "metadata": {},
   "source": [
    "### MAP Estimation\n",
    "\n",
    "A MAP estimate for the phase can be computed by utilizing Bayes' rule identity\n",
    "\n",
    "$$\n",
    "p(a, \\theta|\\vec{y}) = \\frac{p(\\vec{y}|a, \\theta) p(a, \\theta)}{p(\\vec{y})}\n",
    "$$\n",
    "\n",
    "Assuming that the amplitude and phase are independent, this equation becomes\n",
    "\n",
    "$$\n",
    "p(a, \\theta | \\vec{y}) = \\frac{p(\\vec{y} | a, \\theta) p(a) p(\\theta)}{p(\\vec{y})}\n",
    "$$\n",
    "\n",
    "Substituting the conditional pdf $ p(\\vec{y} | a, \\theta) $ obtained, i.e.:\n",
    "\n",
    "$$\n",
    "p(\\vec{y}|a, \\theta) = \\kappa_1 \\exp\\left(\\frac{a}{\\sigma^2} y_I \\cos \\theta + \\frac{a}{\\sigma^2} y_Q \\sin \\theta - \\frac{a^2 k}{4\\sigma^2}\\right)\n",
    "$$\n",
    "\n",
    "into this equation results in\n",
    "\n",
    "$$\n",
    "p(a, \\theta | \\vec{y}) = \\kappa_a p(\\theta) \\exp \\left( \\frac{a y_I}{\\sigma^2} \\cos \\theta + \\frac{a y_Q}{\\sigma^2} \\sin \\theta \\right)\n",
    "$$\n",
    "\n",
    "where \n",
    "\n",
    "$$ \n",
    "\\kappa_a \\triangleq \\kappa_1 \\exp(-a^2 k / 4 \\sigma^2) p(a) / p(\\vec{y}) \n",
    "$$ \n",
    "\n",
    "is a constant independent of $ \\theta $. \n",
    "\n",
    "For any specific a priori pdf $ p(\\theta) $, the maximum of $ p(a, \\theta | \\vec{y}) $ may have to be determined numerically."
   ]
  },
  {
   "cell_type": "markdown",
   "metadata": {},
   "source": [
    "### Example\n",
    "\n",
    "In this example [B2, Ex 11.6], if we assume that the phase is uniformly distributed in the interval $ (-\\pi, \\pi) $, a MAP estimate of $ \\theta $ can be obtained by differentiating $ p(a, \\theta | \\vec{y}) $ with respect to $ \\theta $, i.e.,\n",
    "\n",
    "$$\n",
    "\\frac{\\partial}{\\partial \\theta} p(a, \\theta | \\vec{y}) = \\frac{\\kappa_a}{2\\pi} \\exp \\left( \\frac{a y_I}{\\sigma^2} \\cos \\theta + \\frac{a y_Q}{\\sigma^2} \\sin \\theta \\right) \\left[ -\\frac{a}{\\sigma^2} y_I \\sin \\theta + \\frac{a}{\\sigma^2} y_Q \\cos \\theta \\right]\n",
    "$$\n",
    "\n",
    "Setting the previous equation to zero and solving for $ \\hat{\\theta}_{MAP} $ yields\n",
    "\n",
    "$$\\boxed{\n",
    "\\hat{\\theta}_{MAP} = \\tan^{-1} \\frac{y_Q}{y_I}, \\quad -\\pi \\leq \\hat{\\theta}_{MAP} \\leq \\pi\n",
    "}\n",
    "$$\n"
   ]
  },
  {
   "cell_type": "markdown",
   "metadata": {},
   "source": [
    "### Phase-Locked Loop (PLL)\n",
    "\n",
    "Often it is not possible to obtain an explicit representation of a parameter estimate. \n",
    "\n",
    "Nonetheless, the equations that lead to a MAP or ML estimate can usually be implemented. \n",
    "\n",
    "To illustrate this concept, \n",
    "\n",
    "recall that \n",
    "\n",
    "$$\n",
    "\\begin{align*}\n",
    "y_I &= \\sum_{i=1}^k y_i \\sin \\beta i \\\\\n",
    "y_Q &= \\sum_{i=1}^k y_i \\cos \\beta i\n",
    "\\end{align*}\n",
    "$$\n",
    "\n",
    "The equation \n",
    "\n",
    "$$\n",
    "\\frac{\\partial}{\\partial \\theta} \\ln p(\\vec{y}|a, \\theta) = -\\frac{a y_I}{\\sigma^2} \\sin \\hat{\\theta} + \\frac{a y_Q}{\\sigma^2} \\cos \\hat{\\theta} = 0\n",
    "$$\n",
    "\n",
    "becomes\n",
    "\n",
    "$$\n",
    "-\\sum_{i=1}^{k} y_i \\sin \\beta i \\sin \\hat{\\theta}_{ML} + \\sum_{i=1}^{k} y_i \\cos \\beta i \\cos \\hat{\\theta}_{ML} = 0\n",
    "$$\n",
    "\n",
    "or\n",
    "\n",
    "$$\n",
    "\\sum_{i=1}^{k} y_i \\cos(\\beta i + \\hat{\\theta}_{ML}) = 0\n",
    "$$\n",
    "\n",
    "This equation can be implemented in approximate form using the block diagram shown in Figure 11.11, where $\\tilde{\\theta}_{ML}$ is an approximation of $\\hat{\\theta}_{ML}$. "
   ]
  },
  {
   "cell_type": "markdown",
   "metadata": {},
   "source": [
    "![](./Figures/fig_11_11.png)\n",
    "\n",
    "The block diagram shown in this figure is known as a phase-locked loop (PLL)."
   ]
  },
  {
   "cell_type": "markdown",
   "metadata": {},
   "source": [
    "### Matlab Example\n",
    "\n",
    "* [Sinusoidal Measurement (PLL)](https://www.mathworks.com/help/sps/ref/sinusoidalmeasurementpll.html)"
   ]
  }
 ],
 "metadata": {
  "kernelspec": {
   "display_name": "env1",
   "language": "python",
   "name": "python3"
  },
  "language_info": {
   "codemirror_mode": {
    "name": "ipython",
    "version": 3
   },
   "file_extension": ".py",
   "mimetype": "text/x-python",
   "name": "python",
   "nbconvert_exporter": "python",
   "pygments_lexer": "ipython3",
   "version": "3.12.4"
  }
 },
 "nbformat": 4,
 "nbformat_minor": 2
}
