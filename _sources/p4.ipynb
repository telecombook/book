{
 "cells": [
  {
   "cell_type": "markdown",
   "metadata": {},
   "source": [
    "# Example 4\n",
    "\n",
    " $(n,k)$ Block Code"
   ]
  },
  {
   "cell_type": "code",
   "execution_count": 97,
   "metadata": {},
   "outputs": [],
   "source": [
    "import numpy as np\n",
    "import matplotlib.pyplot as plt\n",
    "from sympy import symbols, expand\n",
    "from collections import Counter"
   ]
  },
  {
   "cell_type": "markdown",
   "metadata": {},
   "source": [
    "# Generator matrix\n",
    "* Eq. (7.2-8) \n",
    "\n",
    "$\n",
    "G = \\begin{bmatrix}\n",
    "    1 & 0 & 0 & 0 & 1 & 0 & 1 \\\\\n",
    "    0 & 1 & 0 & 0 & 1 & 1 & 1 \\\\\n",
    "    0 & 0 & 1 & 0 & 1 & 1 & 0 \\\\\n",
    "    0 & 0 & 0 & 1 & 0 & 1 & 1\n",
    "\\end{bmatrix}\n",
    "$\n",
    "\n",
    "Parity-check Matrix\n",
    "* Example 7.2-1\n",
    "* Eq. (7.3-3)\n",
    "\n",
    "\n",
    "$\n",
    "H = \\begin{bmatrix}\n",
    "1 & 1 & 1 & 0 & 1 & 0 & 0 \\\\\n",
    "0 & 1 & 1 & 1 & 0 & 1 & 0 \\\\\n",
    "1 & 1 & 0 & 1 & 0 & 0 & 1\n",
    "\\end{bmatrix}\n",
    "$\n",
    "\n"
   ]
  },
  {
   "cell_type": "code",
   "execution_count": 98,
   "metadata": {},
   "outputs": [
    {
     "name": "stdout",
     "output_type": "stream",
     "text": [
      "Generator matrix G:\n",
      "[[1 0 0 0 1 0 1]\n",
      " [0 1 0 0 1 1 1]\n",
      " [0 0 1 0 1 1 0]\n",
      " [0 0 0 1 0 1 1]]\n",
      "\n",
      "Parity-check matrix H:\n",
      "[[1 1 1 0 1 0 0]\n",
      " [0 1 1 1 0 1 0]\n",
      " [1 1 0 1 0 0 1]]\n"
     ]
    }
   ],
   "source": [
    "# Generator matrix G\n",
    "G = np.array([\n",
    "    [1, 0, 0, 0, 1, 0, 1],\n",
    "    [0, 1, 0, 0, 1, 1, 1],\n",
    "    [0, 0, 1, 0, 1, 1, 0],\n",
    "    [0, 0, 0, 1, 0, 1, 1]\n",
    "])\n",
    "\n",
    "# Compute the parity check matrix H\n",
    "# Extract P from G (everything after the identity matrix)\n",
    "P = G[:, 4:]\n",
    "\n",
    "# H = [-P^T | I], but since in binary {-1 = 1}, \n",
    "# simply use P^T directly\n",
    "k = G.shape[0]  # k: message length\n",
    "n = G.shape[1]  # n: codeword length\n",
    "n_minus_k = n - k  # n_minus_k: parity bits\n",
    "I_n_k = np.identity(n_minus_k, dtype=int)\n",
    "H = np.concatenate((P.T, I_n_k), axis=1)\n",
    "\n",
    "print(\"Generator matrix G:\")\n",
    "print(G)\n",
    "print(\"\\nParity-check matrix H:\")\n",
    "print(H)\n"
   ]
  },
  {
   "cell_type": "markdown",
   "metadata": {},
   "source": [
    "# Message, Codeword, Weight"
   ]
  },
  {
   "cell_type": "code",
   "execution_count": 99,
   "metadata": {},
   "outputs": [
    {
     "data": {
      "text/plain": [
       "[{'Message': [0, 0, 0, 0], 'Codeword': [0, 0, 0, 0, 0, 0, 0], 'Weight': 0},\n",
       " {'Message': [0, 0, 0, 1], 'Codeword': [0, 0, 0, 1, 0, 1, 1], 'Weight': 3},\n",
       " {'Message': [0, 0, 1, 0], 'Codeword': [0, 0, 1, 0, 1, 1, 0], 'Weight': 3},\n",
       " {'Message': [0, 0, 1, 1], 'Codeword': [0, 0, 1, 1, 1, 0, 1], 'Weight': 4},\n",
       " {'Message': [0, 1, 0, 0], 'Codeword': [0, 1, 0, 0, 1, 1, 1], 'Weight': 4},\n",
       " {'Message': [0, 1, 0, 1], 'Codeword': [0, 1, 0, 1, 1, 0, 0], 'Weight': 3},\n",
       " {'Message': [0, 1, 1, 0], 'Codeword': [0, 1, 1, 0, 0, 0, 1], 'Weight': 3},\n",
       " {'Message': [0, 1, 1, 1], 'Codeword': [0, 1, 1, 1, 0, 1, 0], 'Weight': 4},\n",
       " {'Message': [1, 0, 0, 0], 'Codeword': [1, 0, 0, 0, 1, 0, 1], 'Weight': 3},\n",
       " {'Message': [1, 0, 0, 1], 'Codeword': [1, 0, 0, 1, 1, 1, 0], 'Weight': 4},\n",
       " {'Message': [1, 0, 1, 0], 'Codeword': [1, 0, 1, 0, 0, 1, 1], 'Weight': 4},\n",
       " {'Message': [1, 0, 1, 1], 'Codeword': [1, 0, 1, 1, 0, 0, 0], 'Weight': 3},\n",
       " {'Message': [1, 1, 0, 0], 'Codeword': [1, 1, 0, 0, 0, 1, 0], 'Weight': 3},\n",
       " {'Message': [1, 1, 0, 1], 'Codeword': [1, 1, 0, 1, 0, 0, 1], 'Weight': 4},\n",
       " {'Message': [1, 1, 1, 0], 'Codeword': [1, 1, 1, 0, 1, 0, 0], 'Weight': 4},\n",
       " {'Message': [1, 1, 1, 1], 'Codeword': [1, 1, 1, 1, 1, 1, 1], 'Weight': 7}]"
      ]
     },
     "execution_count": 99,
     "metadata": {},
     "output_type": "execute_result"
    }
   ],
   "source": [
    "# Function to compute the weight of a codeword\n",
    "def weight(codeword):\n",
    "    return np.sum(codeword != 0)\n",
    "\n",
    "# Generate all possible messages of length k\n",
    "num_messages = 2**k\n",
    "messages = np.array([[(i >> j) & 1 for j in range(k)][::-1] \\\n",
    "                     for i in range(num_messages)])\n",
    "\n",
    "# Generate codewords and compute their weights\n",
    "codewords = np.dot(messages, G) % 2\n",
    "weights = np.array([weight(codeword) for codeword in codewords])\n",
    "\n",
    "# Collecting messages, codewords, and their weights in a structured format\n",
    "message_codeword_weight = [{\"Message\": m.tolist(), \\\n",
    "                            \"Codeword\": cw.tolist(), \\\n",
    "                            \"Weight\": w} for m, cw, w in \\\n",
    "                        zip(messages, codewords, weights)]\n",
    "\n",
    "# Output the structured data\n",
    "message_codeword_weight\n"
   ]
  },
  {
   "cell_type": "markdown",
   "metadata": {},
   "source": [
    "# Weight Distribution"
   ]
  },
  {
   "cell_type": "code",
   "execution_count": 100,
   "metadata": {},
   "outputs": [
    {
     "data": {
      "image/png": "[encoded data removed]",
      "text/plain": [
       "<Figure size 800x500 with 1 Axes>"
      ]
     },
     "metadata": {},
     "output_type": "display_data"
    }
   ],
   "source": [
    "# Plot the weight distribution as a histogram\n",
    "plt.figure(figsize=(8, 5))\n",
    "plt.hist(weights, \\\n",
    "         bins=np.arange(weights.min(), weights.max() + 2) \\\n",
    "            - 0.5, ec='black')\n",
    "plt.title('Weight Distribution of Codewords')\n",
    "plt.xlabel('Weight')\n",
    "plt.ylabel('Frequency')\n",
    "plt.xticks(range(min(weights), max(weights) + 1))\n",
    "plt.grid(axis='y', alpha=0.75)\n",
    "plt.show()\n"
   ]
  },
  {
   "cell_type": "markdown",
   "metadata": {},
   "source": [
    "# Two conditions:\n",
    "1. $\\mathbf{c} \\mathbf{H}^{\\sf T} = 0$ for a valid codeword $c$, to ensure it meets the code's parity check.\n",
    "2. $\\mathbf{G} \\mathbf{H}^{\\sf T} = 0$, to verify the correctness of our generator and parity check matrices."
   ]
  },
  {
   "cell_type": "code",
   "execution_count": 101,
   "metadata": {},
   "outputs": [
    {
     "data": {
      "text/plain": [
       "(array([[0, 0, 0],\n",
       "        [0, 0, 0],\n",
       "        [0, 0, 0],\n",
       "        [0, 0, 0],\n",
       "        [0, 0, 0],\n",
       "        [0, 0, 0],\n",
       "        [0, 0, 0],\n",
       "        [0, 0, 0],\n",
       "        [0, 0, 0],\n",
       "        [0, 0, 0],\n",
       "        [0, 0, 0],\n",
       "        [0, 0, 0],\n",
       "        [0, 0, 0],\n",
       "        [0, 0, 0],\n",
       "        [0, 0, 0],\n",
       "        [0, 0, 0]]),\n",
       " array([[0, 0, 0],\n",
       "        [0, 0, 0],\n",
       "        [0, 0, 0],\n",
       "        [0, 0, 0]]))"
      ]
     },
     "execution_count": 101,
     "metadata": {},
     "output_type": "execute_result"
    }
   ],
   "source": [
    "# Check condition cH^T = 0 for the example codeword\n",
    "c_H_transpose = np.dot(codewords, H.T) % 2\n",
    "\n",
    "# Check condition GH^T = 0\n",
    "G_H_transpose = np.dot(G, H.T) % 2\n",
    "\n",
    "(c_H_transpose, G_H_transpose)\n"
   ]
  },
  {
   "cell_type": "markdown",
   "metadata": {},
   "source": [
    "# Hamming distance"
   ]
  },
  {
   "cell_type": "code",
   "execution_count": 102,
   "metadata": {},
   "outputs": [
    {
     "name": "stdout",
     "output_type": "stream",
     "text": [
      "Hamming Distances:\n",
      " [[0 3 3 4 4 3 3 4 3 4 4 3 3 4 4 7]\n",
      " [3 0 4 3 3 4 4 3 4 3 3 4 4 3 7 4]\n",
      " [3 4 0 3 3 4 4 3 4 3 3 4 4 7 3 4]\n",
      " [4 3 3 0 4 3 3 4 3 4 4 3 7 4 4 3]\n",
      " [4 3 3 4 0 3 3 4 3 4 4 7 3 4 4 3]\n",
      " [3 4 4 3 3 0 4 3 4 3 7 4 4 3 3 4]\n",
      " [3 4 4 3 3 4 0 3 4 7 3 4 4 3 3 4]\n",
      " [4 3 3 4 4 3 3 0 7 4 4 3 3 4 4 3]\n",
      " [3 4 4 3 3 4 4 7 0 3 3 4 4 3 3 4]\n",
      " [4 3 3 4 4 3 7 4 3 0 4 3 3 4 4 3]\n",
      " [4 3 3 4 4 7 3 4 3 4 0 3 3 4 4 3]\n",
      " [3 4 4 3 7 4 4 3 4 3 3 0 4 3 3 4]\n",
      " [3 4 4 7 3 4 4 3 4 3 3 4 0 3 3 4]\n",
      " [4 3 7 4 4 3 3 4 3 4 4 3 3 0 4 3]\n",
      " [4 7 3 4 4 3 3 4 3 4 4 3 3 4 0 3]\n",
      " [7 4 4 3 3 4 4 3 4 3 3 4 4 3 3 0]]\n",
      "Weight of Difference:\n",
      " [[0 3 3 4 4 3 3 4 3 4 4 3 3 4 4 7]\n",
      " [3 0 4 3 3 4 4 3 4 3 3 4 4 3 7 4]\n",
      " [3 4 0 3 3 4 4 3 4 3 3 4 4 7 3 4]\n",
      " [4 3 3 0 4 3 3 4 3 4 4 3 7 4 4 3]\n",
      " [4 3 3 4 0 3 3 4 3 4 4 7 3 4 4 3]\n",
      " [3 4 4 3 3 0 4 3 4 3 7 4 4 3 3 4]\n",
      " [3 4 4 3 3 4 0 3 4 7 3 4 4 3 3 4]\n",
      " [4 3 3 4 4 3 3 0 7 4 4 3 3 4 4 3]\n",
      " [3 4 4 3 3 4 4 7 0 3 3 4 4 3 3 4]\n",
      " [4 3 3 4 4 3 7 4 3 0 4 3 3 4 4 3]\n",
      " [4 3 3 4 4 7 3 4 3 4 0 3 3 4 4 3]\n",
      " [3 4 4 3 7 4 4 3 4 3 3 0 4 3 3 4]\n",
      " [3 4 4 7 3 4 4 3 4 3 3 4 0 3 3 4]\n",
      " [4 3 7 4 4 3 3 4 3 4 4 3 3 0 4 3]\n",
      " [4 7 3 4 4 3 3 4 3 4 4 3 3 4 0 3]\n",
      " [7 4 4 3 3 4 4 3 4 3 3 4 4 3 3 0]]\n"
     ]
    }
   ],
   "source": [
    "\n",
    "# Initialize matrices to store the Hamming distances \n",
    "# and the weight of differences\n",
    "hamming_distances = np.zeros((num_messages, num_messages), dtype=int)\n",
    "weight_difference = np.zeros((num_messages, num_messages), dtype=int)\n",
    "\n",
    "# Iterate through all pairs of codewords\n",
    "for i in range(num_messages):\n",
    "    for j in range(num_messages):\n",
    "        # Compute the difference between codewords\n",
    "        # this is also a codeword\n",
    "        difference = codewords[i] - codewords[j] \n",
    "        # Compute the Hamming distance as the weight \n",
    "        # of the bitwise difference\n",
    "        hamming_distance = np.sum(difference != 0)\n",
    "        # Store the computed Hamming distance\n",
    "        hamming_distances[i, j] = hamming_distance\n",
    "        # Store the weight of the bitwise difference\n",
    "        weight_difference[i, j] = weight(difference)\n",
    "\n",
    "print(\"Hamming Distances:\\n\", hamming_distances)\n",
    "print(\"Weight of Difference:\\n\", weight_difference)\n",
    "\n"
   ]
  },
  {
   "cell_type": "code",
   "execution_count": 103,
   "metadata": {},
   "outputs": [
    {
     "data": {
      "text/plain": [
       "array([[0, 0, 0, 0, 0, 0, 0, 0, 0, 0, 0, 0, 0, 0, 0, 0],\n",
       "       [0, 0, 0, 0, 0, 0, 0, 0, 0, 0, 0, 0, 0, 0, 0, 0],\n",
       "       [0, 0, 0, 0, 0, 0, 0, 0, 0, 0, 0, 0, 0, 0, 0, 0],\n",
       "       [0, 0, 0, 0, 0, 0, 0, 0, 0, 0, 0, 0, 0, 0, 0, 0],\n",
       "       [0, 0, 0, 0, 0, 0, 0, 0, 0, 0, 0, 0, 0, 0, 0, 0],\n",
       "       [0, 0, 0, 0, 0, 0, 0, 0, 0, 0, 0, 0, 0, 0, 0, 0],\n",
       "       [0, 0, 0, 0, 0, 0, 0, 0, 0, 0, 0, 0, 0, 0, 0, 0],\n",
       "       [0, 0, 0, 0, 0, 0, 0, 0, 0, 0, 0, 0, 0, 0, 0, 0],\n",
       "       [0, 0, 0, 0, 0, 0, 0, 0, 0, 0, 0, 0, 0, 0, 0, 0],\n",
       "       [0, 0, 0, 0, 0, 0, 0, 0, 0, 0, 0, 0, 0, 0, 0, 0],\n",
       "       [0, 0, 0, 0, 0, 0, 0, 0, 0, 0, 0, 0, 0, 0, 0, 0],\n",
       "       [0, 0, 0, 0, 0, 0, 0, 0, 0, 0, 0, 0, 0, 0, 0, 0],\n",
       "       [0, 0, 0, 0, 0, 0, 0, 0, 0, 0, 0, 0, 0, 0, 0, 0],\n",
       "       [0, 0, 0, 0, 0, 0, 0, 0, 0, 0, 0, 0, 0, 0, 0, 0],\n",
       "       [0, 0, 0, 0, 0, 0, 0, 0, 0, 0, 0, 0, 0, 0, 0, 0],\n",
       "       [0, 0, 0, 0, 0, 0, 0, 0, 0, 0, 0, 0, 0, 0, 0, 0]])"
      ]
     },
     "execution_count": 103,
     "metadata": {},
     "output_type": "execute_result"
    }
   ],
   "source": [
    "hamming_distances - weight_difference"
   ]
  },
  {
   "cell_type": "markdown",
   "metadata": {},
   "source": [
    "# Minimum Distance"
   ]
  },
  {
   "cell_type": "code",
   "execution_count": 104,
   "metadata": {},
   "outputs": [
    {
     "name": "stdout",
     "output_type": "stream",
     "text": [
      "Minimum Hamming Distance (d_min): 3\n"
     ]
    }
   ],
   "source": [
    "num_messages = len(codewords)  # Number of codewords/messages\n",
    "\n",
    "# Remove the diagonal elements for the search of \n",
    "# the minimum non-zero Hamming distance\n",
    "np.fill_diagonal(hamming_distances, np.max(hamming_distances) + 1)\n",
    "\n",
    "# Finding d_min from the adjusted Hamming distances\n",
    "d_min = np.min(hamming_distances)\n",
    "\n",
    "print(\"Minimum Hamming Distance (d_min):\", d_min)\n"
   ]
  },
  {
   "cell_type": "markdown",
   "metadata": {},
   "source": [
    "# Minimum Weight"
   ]
  },
  {
   "cell_type": "code",
   "execution_count": 105,
   "metadata": {},
   "outputs": [
    {
     "name": "stdout",
     "output_type": "stream",
     "text": [
      "Minimum Weight (w_min): 3\n"
     ]
    }
   ],
   "source": [
    "# Can use the above method for d_min or use the following:\n",
    "# Finding the minimum weight using the codewords directly\n",
    "# The minimum weight of a code is the minimum \n",
    "# of the weights of all nonzero codewords\n",
    "\n",
    "# Initialize the minimum weight to a large value \n",
    "# before finding the actual minimum\n",
    "min_weight_codewords = np.inf\n",
    "\n",
    "# Iterate through all codewords to find the minimum non-zero weight\n",
    "for codeword in codewords:\n",
    "    cw_weight = weight(codeword)\n",
    "    if 0 < cw_weight < min_weight_codewords:\n",
    "        min_weight_codewords = cw_weight\n",
    "\n",
    "min_weight_codewords\n",
    "print(\"Minimum Weight (w_min):\", min_weight_codewords)\n"
   ]
  },
  {
   "cell_type": "markdown",
   "metadata": {},
   "source": [
    "# WEP, Eq. 7.2-30"
   ]
  },
  {
   "cell_type": "code",
   "execution_count": 106,
   "metadata": {},
   "outputs": [
    {
     "data": {
      "text/plain": [
       "'1 Z^0 + 7 Z^3 + 7 Z^4 + 1 Z^7'"
      ]
     },
     "execution_count": 106,
     "metadata": {},
     "output_type": "execute_result"
    }
   ],
   "source": [
    "\n",
    "# Count the occurrence of each weight\n",
    "weight_counts = Counter(weights)\n",
    "\n",
    "# The maximum weight is the length of a codeword\n",
    "max_weight = len(codewords[0])\n",
    "\n",
    "# Initialize a list for coefficients with zeros\n",
    "wep_coefficients = [0] * (max_weight + 1)\n",
    "\n",
    "# Populate the coefficients based on weight counts\n",
    "for weight, count in weight_counts.items():\n",
    "    wep_coefficients[weight] = count\n",
    "\n",
    "# Construct the WEP as a string for display\n",
    "# Eq. 7.2-30\n",
    "wep_str = \" + \".join(f\"{coef} Z^{i}\" for i, coef \\\n",
    "                     in enumerate(wep_coefficients) if coef > 0)\n",
    "\n",
    "wep_str\n"
   ]
  },
  {
   "cell_type": "markdown",
   "metadata": {},
   "source": [
    "# IOWEF,  $B_{i,j}$\n",
    "\n"
   ]
  },
  {
   "cell_type": "code",
   "execution_count": 107,
   "metadata": {},
   "outputs": [
    {
     "data": {
      "text/plain": [
       "(3, 3, 1)"
      ]
     },
     "execution_count": 107,
     "metadata": {},
     "output_type": "execute_result"
    }
   ],
   "source": [
    "# Calculate the weight of each codeword\n",
    "codeword_weights = np.sum(codewords, axis=1)\n",
    "\n",
    "# Calculate the weight of each information sequence (message)\n",
    "message_weights = np.sum(messages, axis=1)\n",
    "\n",
    "# Function to count B_ij\n",
    "def count_B_ij(codeword_weights, message_weights, i, j):\n",
    "    return np.sum((codeword_weights == i) & (message_weights == j))\n",
    "\n",
    "# Count B_31, B_42, B_74\n",
    "B_31 = count_B_ij(codeword_weights, message_weights, 3, 1)\n",
    "B_42 = count_B_ij(codeword_weights, message_weights, 4, 2)\n",
    "B_74 = count_B_ij(codeword_weights, message_weights, 7, 4)\n",
    "\n",
    "B_31, B_42, B_74\n"
   ]
  },
  {
   "cell_type": "code",
   "execution_count": 108,
   "metadata": {},
   "outputs": [
    {
     "data": {
      "text/plain": [
       "([(array([0, 0, 0, 1]), array([0, 0, 0, 1, 0, 1, 1])),\n",
       "  (array([0, 0, 1, 0]), array([0, 0, 1, 0, 1, 1, 0])),\n",
       "  (array([1, 0, 0, 0]), array([1, 0, 0, 0, 1, 0, 1]))],\n",
       " [(array([0, 0, 1, 1]), array([0, 0, 1, 1, 1, 0, 1])),\n",
       "  (array([1, 0, 0, 1]), array([1, 0, 0, 1, 1, 1, 0])),\n",
       "  (array([1, 0, 1, 0]), array([1, 0, 1, 0, 0, 1, 1]))],\n",
       " [(array([1, 1, 1, 1]), array([1, 1, 1, 1, 1, 1, 1]))])"
      ]
     },
     "execution_count": 108,
     "metadata": {},
     "output_type": "execute_result"
    }
   ],
   "source": [
    "# Function to find information sequences and \n",
    "# corresponding codewords for given B_ij values\n",
    "def find_sequences_codewords(codewords, messages, \\\n",
    "                             codeword_weights, message_weights, i, j):\n",
    "    indices = np.where((codeword_weights == i) & (message_weights == j))[0]\n",
    "    return [(messages[index], codewords[index]) for index in indices]\n",
    "\n",
    "# Find sequences and codewords for B_31, B_42, B_74\n",
    "sequences_codewords_B_31 = \\\n",
    "    find_sequences_codewords(codewords, messages, \\\n",
    "                             codeword_weights, message_weights, 3, 1)\n",
    "sequences_codewords_B_42 = \\\n",
    "    find_sequences_codewords(codewords, messages, \\\n",
    "                             codeword_weights, message_weights, 4, 2)\n",
    "sequences_codewords_B_74 = \\\n",
    "    find_sequences_codewords(codewords, messages, \\\n",
    "                             codeword_weights, message_weights, 7, 4)\n",
    "\n",
    "sequences_codewords_B_31, sequences_codewords_B_42, \\\n",
    "    sequences_codewords_B_74\n"
   ]
  },
  {
   "cell_type": "markdown",
   "metadata": {},
   "source": [
    "(from Example 7.2-2)\n",
    "### For $B_{31} = 3$\n",
    "- Information Sequence: $[0, 0, 0, 1]$, Codeword: $[0, 0, 0, 1, 0, 1, 1]$\n",
    "- Information Sequence: $[0, 0, 1, 0]$, Codeword: $[0, 0, 1, 0, 1, 1, 0]$\n",
    "- Information Sequence: $[1, 0, 0, 0]$, Codeword: $[1, 0, 0, 0, 1, 0, 1]$\n",
    "\n",
    "### For $B_{42} = 3$\n",
    "- Information Sequence: $[0, 0, 1, 1]$, Codeword: $[0, 0, 1, 1, 1, 0, 1]$\n",
    "- Information Sequence: $[1, 0, 0, 1]$, Codeword: $[1, 0, 0, 1, 1, 1, 0]$\n",
    "- Information Sequence: $[1, 0, 1, 0]$, Codeword: $[1, 0, 1, 0, 0, 1, 1]$\n",
    "\n",
    "### For $B_{74} = 1$\n",
    "- Information Sequence: $[1, 1, 1, 1]$, Codeword: $[1, 1, 1, 1, 1, 1, 1]$\n"
   ]
  },
  {
   "cell_type": "markdown",
   "metadata": {},
   "source": [
    "# Weight Distribution Polynomial, Eq. 7.3-2\n",
    "\n",
    "\n",
    "$$ A(Z) = \\frac{1}{n+1} \\left[(1 + Z)^n + n(1 + Z)^{\\frac{n-1}{2}}(1 - Z)^{\\frac{n+1}{2}}\\right] $$\n",
    "\n",
    "$$ A(Z) = Z^7 + 7Z^4 + 7Z^3 + 1 $$\n"
   ]
  },
  {
   "cell_type": "code",
   "execution_count": 109,
   "metadata": {},
   "outputs": [
    {
     "data": {
      "text/latex": [
       "$\\displaystyle 1.0 Z^{7} + 7.0 Z^{4} + 7.0 Z^{3} + 1.0$"
      ],
      "text/plain": [
       "1.0*Z**7 + 7.0*Z**4 + 7.0*Z**3 + 1.0"
      ]
     },
     "execution_count": 109,
     "metadata": {},
     "output_type": "execute_result"
    }
   ],
   "source": [
    "# Define the symbol Z\n",
    "Z = symbols('Z')\n",
    "\n",
    "# Calculate the weight distribution polynomial A(Z) \n",
    "# for (7,4) Hamming code\n",
    "# Eq. 7.3-2\n",
    "A_Z_eq_7_3_2 = (1 / (n + 1)) * ((1 + Z)**n \\\n",
    "                                + n*(1 + Z)**int((n - 1) / 2) \\\n",
    "                                * (1 - Z)**int((n + 1) / 2))\n",
    "\n",
    "# Expand the polynomial for clarity\n",
    "A_Z_expanded_final = expand(A_Z_eq_7_3_2)\n",
    "A_Z_expanded_final # same result as Eq. 7.2-30\n"
   ]
  },
  {
   "cell_type": "markdown",
   "metadata": {},
   "source": [
    "# Error vector/pattern $\\mathbf{e}$"
   ]
  },
  {
   "cell_type": "code",
   "execution_count": 110,
   "metadata": {},
   "outputs": [
    {
     "name": "stdout",
     "output_type": "stream",
     "text": [
      "Error patterns:\n"
     ]
    },
    {
     "data": {
      "text/plain": [
       "[array([0, 0, 0, 0, 0, 0, 0]),\n",
       " array([0, 0, 0, 0, 0, 0, 1]),\n",
       " array([0, 0, 0, 0, 0, 1, 0]),\n",
       " array([0, 0, 0, 0, 0, 1, 1]),\n",
       " array([0, 0, 0, 0, 1, 0, 0]),\n",
       " array([0, 0, 0, 0, 1, 0, 1]),\n",
       " array([0, 0, 0, 0, 1, 1, 0]),\n",
       " array([0, 0, 0, 0, 1, 1, 1]),\n",
       " array([0, 0, 0, 1, 0, 0, 0]),\n",
       " array([0, 0, 0, 1, 0, 0, 1]),\n",
       " array([0, 0, 0, 1, 0, 1, 0]),\n",
       " array([0, 0, 0, 1, 0, 1, 1]),\n",
       " array([0, 0, 0, 1, 1, 0, 0]),\n",
       " array([0, 0, 0, 1, 1, 0, 1]),\n",
       " array([0, 0, 0, 1, 1, 1, 0]),\n",
       " array([0, 0, 0, 1, 1, 1, 1]),\n",
       " array([0, 0, 1, 0, 0, 0, 0]),\n",
       " array([0, 0, 1, 0, 0, 0, 1]),\n",
       " array([0, 0, 1, 0, 0, 1, 0]),\n",
       " array([0, 0, 1, 0, 0, 1, 1]),\n",
       " array([0, 0, 1, 0, 1, 0, 0]),\n",
       " array([0, 0, 1, 0, 1, 0, 1]),\n",
       " array([0, 0, 1, 0, 1, 1, 0]),\n",
       " array([0, 0, 1, 0, 1, 1, 1]),\n",
       " array([0, 0, 1, 1, 0, 0, 0]),\n",
       " array([0, 0, 1, 1, 0, 0, 1]),\n",
       " array([0, 0, 1, 1, 0, 1, 0]),\n",
       " array([0, 0, 1, 1, 0, 1, 1]),\n",
       " array([0, 0, 1, 1, 1, 0, 0]),\n",
       " array([0, 0, 1, 1, 1, 0, 1]),\n",
       " array([0, 0, 1, 1, 1, 1, 0]),\n",
       " array([0, 0, 1, 1, 1, 1, 1]),\n",
       " array([0, 1, 0, 0, 0, 0, 0]),\n",
       " array([0, 1, 0, 0, 0, 0, 1]),\n",
       " array([0, 1, 0, 0, 0, 1, 0]),\n",
       " array([0, 1, 0, 0, 0, 1, 1]),\n",
       " array([0, 1, 0, 0, 1, 0, 0]),\n",
       " array([0, 1, 0, 0, 1, 0, 1]),\n",
       " array([0, 1, 0, 0, 1, 1, 0]),\n",
       " array([0, 1, 0, 0, 1, 1, 1]),\n",
       " array([0, 1, 0, 1, 0, 0, 0]),\n",
       " array([0, 1, 0, 1, 0, 0, 1]),\n",
       " array([0, 1, 0, 1, 0, 1, 0]),\n",
       " array([0, 1, 0, 1, 0, 1, 1]),\n",
       " array([0, 1, 0, 1, 1, 0, 0]),\n",
       " array([0, 1, 0, 1, 1, 0, 1]),\n",
       " array([0, 1, 0, 1, 1, 1, 0]),\n",
       " array([0, 1, 0, 1, 1, 1, 1]),\n",
       " array([0, 1, 1, 0, 0, 0, 0]),\n",
       " array([0, 1, 1, 0, 0, 0, 1]),\n",
       " array([0, 1, 1, 0, 0, 1, 0]),\n",
       " array([0, 1, 1, 0, 0, 1, 1]),\n",
       " array([0, 1, 1, 0, 1, 0, 0]),\n",
       " array([0, 1, 1, 0, 1, 0, 1]),\n",
       " array([0, 1, 1, 0, 1, 1, 0]),\n",
       " array([0, 1, 1, 0, 1, 1, 1]),\n",
       " array([0, 1, 1, 1, 0, 0, 0]),\n",
       " array([0, 1, 1, 1, 0, 0, 1]),\n",
       " array([0, 1, 1, 1, 0, 1, 0]),\n",
       " array([0, 1, 1, 1, 0, 1, 1]),\n",
       " array([0, 1, 1, 1, 1, 0, 0]),\n",
       " array([0, 1, 1, 1, 1, 0, 1]),\n",
       " array([0, 1, 1, 1, 1, 1, 0]),\n",
       " array([0, 1, 1, 1, 1, 1, 1]),\n",
       " array([1, 0, 0, 0, 0, 0, 0]),\n",
       " array([1, 0, 0, 0, 0, 0, 1]),\n",
       " array([1, 0, 0, 0, 0, 1, 0]),\n",
       " array([1, 0, 0, 0, 0, 1, 1]),\n",
       " array([1, 0, 0, 0, 1, 0, 0]),\n",
       " array([1, 0, 0, 0, 1, 0, 1]),\n",
       " array([1, 0, 0, 0, 1, 1, 0]),\n",
       " array([1, 0, 0, 0, 1, 1, 1]),\n",
       " array([1, 0, 0, 1, 0, 0, 0]),\n",
       " array([1, 0, 0, 1, 0, 0, 1]),\n",
       " array([1, 0, 0, 1, 0, 1, 0]),\n",
       " array([1, 0, 0, 1, 0, 1, 1]),\n",
       " array([1, 0, 0, 1, 1, 0, 0]),\n",
       " array([1, 0, 0, 1, 1, 0, 1]),\n",
       " array([1, 0, 0, 1, 1, 1, 0]),\n",
       " array([1, 0, 0, 1, 1, 1, 1]),\n",
       " array([1, 0, 1, 0, 0, 0, 0]),\n",
       " array([1, 0, 1, 0, 0, 0, 1]),\n",
       " array([1, 0, 1, 0, 0, 1, 0]),\n",
       " array([1, 0, 1, 0, 0, 1, 1]),\n",
       " array([1, 0, 1, 0, 1, 0, 0]),\n",
       " array([1, 0, 1, 0, 1, 0, 1]),\n",
       " array([1, 0, 1, 0, 1, 1, 0]),\n",
       " array([1, 0, 1, 0, 1, 1, 1]),\n",
       " array([1, 0, 1, 1, 0, 0, 0]),\n",
       " array([1, 0, 1, 1, 0, 0, 1]),\n",
       " array([1, 0, 1, 1, 0, 1, 0]),\n",
       " array([1, 0, 1, 1, 0, 1, 1]),\n",
       " array([1, 0, 1, 1, 1, 0, 0]),\n",
       " array([1, 0, 1, 1, 1, 0, 1]),\n",
       " array([1, 0, 1, 1, 1, 1, 0]),\n",
       " array([1, 0, 1, 1, 1, 1, 1]),\n",
       " array([1, 1, 0, 0, 0, 0, 0]),\n",
       " array([1, 1, 0, 0, 0, 0, 1]),\n",
       " array([1, 1, 0, 0, 0, 1, 0]),\n",
       " array([1, 1, 0, 0, 0, 1, 1]),\n",
       " array([1, 1, 0, 0, 1, 0, 0]),\n",
       " array([1, 1, 0, 0, 1, 0, 1]),\n",
       " array([1, 1, 0, 0, 1, 1, 0]),\n",
       " array([1, 1, 0, 0, 1, 1, 1]),\n",
       " array([1, 1, 0, 1, 0, 0, 0]),\n",
       " array([1, 1, 0, 1, 0, 0, 1]),\n",
       " array([1, 1, 0, 1, 0, 1, 0]),\n",
       " array([1, 1, 0, 1, 0, 1, 1]),\n",
       " array([1, 1, 0, 1, 1, 0, 0]),\n",
       " array([1, 1, 0, 1, 1, 0, 1]),\n",
       " array([1, 1, 0, 1, 1, 1, 0]),\n",
       " array([1, 1, 0, 1, 1, 1, 1]),\n",
       " array([1, 1, 1, 0, 0, 0, 0]),\n",
       " array([1, 1, 1, 0, 0, 0, 1]),\n",
       " array([1, 1, 1, 0, 0, 1, 0]),\n",
       " array([1, 1, 1, 0, 0, 1, 1]),\n",
       " array([1, 1, 1, 0, 1, 0, 0]),\n",
       " array([1, 1, 1, 0, 1, 0, 1]),\n",
       " array([1, 1, 1, 0, 1, 1, 0]),\n",
       " array([1, 1, 1, 0, 1, 1, 1]),\n",
       " array([1, 1, 1, 1, 0, 0, 0]),\n",
       " array([1, 1, 1, 1, 0, 0, 1]),\n",
       " array([1, 1, 1, 1, 0, 1, 0]),\n",
       " array([1, 1, 1, 1, 0, 1, 1]),\n",
       " array([1, 1, 1, 1, 1, 0, 0]),\n",
       " array([1, 1, 1, 1, 1, 0, 1]),\n",
       " array([1, 1, 1, 1, 1, 1, 0]),\n",
       " array([1, 1, 1, 1, 1, 1, 1])]"
      ]
     },
     "execution_count": 110,
     "metadata": {},
     "output_type": "execute_result"
    }
   ],
   "source": [
    "# n is defined previously as the length of the codewords\n",
    "# To generate all possible 2^n error patterns including \n",
    "# the zero vector for an (n, k) code\n",
    "error_patterns = [np.array(list(np.binary_repr(i, width=n)), dtype=int) \\\n",
    "                  for i in range(2**n)]\n",
    "\n",
    "print(\"Error patterns:\")\n",
    "error_patterns\n"
   ]
  },
  {
   "cell_type": "markdown",
   "metadata": {},
   "source": [
    "# Syndrome"
   ]
  },
  {
   "cell_type": "code",
   "execution_count": 111,
   "metadata": {},
   "outputs": [
    {
     "data": {
      "text/plain": [
       "(array([[0, 0, 0],\n",
       "        [0, 0, 1],\n",
       "        [0, 1, 0],\n",
       "        [0, 1, 1],\n",
       "        [1, 0, 0],\n",
       "        [1, 0, 1],\n",
       "        [1, 1, 0],\n",
       "        [1, 1, 1],\n",
       "        [0, 1, 1],\n",
       "        [0, 1, 0],\n",
       "        [0, 0, 1],\n",
       "        [0, 0, 0],\n",
       "        [1, 1, 1],\n",
       "        [1, 1, 0],\n",
       "        [1, 0, 1],\n",
       "        [1, 0, 0],\n",
       "        [1, 1, 0],\n",
       "        [1, 1, 1],\n",
       "        [1, 0, 0],\n",
       "        [1, 0, 1],\n",
       "        [0, 1, 0],\n",
       "        [0, 1, 1],\n",
       "        [0, 0, 0],\n",
       "        [0, 0, 1],\n",
       "        [1, 0, 1],\n",
       "        [1, 0, 0],\n",
       "        [1, 1, 1],\n",
       "        [1, 1, 0],\n",
       "        [0, 0, 1],\n",
       "        [0, 0, 0],\n",
       "        [0, 1, 1],\n",
       "        [0, 1, 0],\n",
       "        [1, 1, 1],\n",
       "        [1, 1, 0],\n",
       "        [1, 0, 1],\n",
       "        [1, 0, 0],\n",
       "        [0, 1, 1],\n",
       "        [0, 1, 0],\n",
       "        [0, 0, 1],\n",
       "        [0, 0, 0],\n",
       "        [1, 0, 0],\n",
       "        [1, 0, 1],\n",
       "        [1, 1, 0],\n",
       "        [1, 1, 1],\n",
       "        [0, 0, 0],\n",
       "        [0, 0, 1],\n",
       "        [0, 1, 0],\n",
       "        [0, 1, 1],\n",
       "        [0, 0, 1],\n",
       "        [0, 0, 0],\n",
       "        [0, 1, 1],\n",
       "        [0, 1, 0],\n",
       "        [1, 0, 1],\n",
       "        [1, 0, 0],\n",
       "        [1, 1, 1],\n",
       "        [1, 1, 0],\n",
       "        [0, 1, 0],\n",
       "        [0, 1, 1],\n",
       "        [0, 0, 0],\n",
       "        [0, 0, 1],\n",
       "        [1, 1, 0],\n",
       "        [1, 1, 1],\n",
       "        [1, 0, 0],\n",
       "        [1, 0, 1],\n",
       "        [1, 0, 1],\n",
       "        [1, 0, 0],\n",
       "        [1, 1, 1],\n",
       "        [1, 1, 0],\n",
       "        [0, 0, 1],\n",
       "        [0, 0, 0],\n",
       "        [0, 1, 1],\n",
       "        [0, 1, 0],\n",
       "        [1, 1, 0],\n",
       "        [1, 1, 1],\n",
       "        [1, 0, 0],\n",
       "        [1, 0, 1],\n",
       "        [0, 1, 0],\n",
       "        [0, 1, 1],\n",
       "        [0, 0, 0],\n",
       "        [0, 0, 1],\n",
       "        [0, 1, 1],\n",
       "        [0, 1, 0],\n",
       "        [0, 0, 1],\n",
       "        [0, 0, 0],\n",
       "        [1, 1, 1],\n",
       "        [1, 1, 0],\n",
       "        [1, 0, 1],\n",
       "        [1, 0, 0],\n",
       "        [0, 0, 0],\n",
       "        [0, 0, 1],\n",
       "        [0, 1, 0],\n",
       "        [0, 1, 1],\n",
       "        [1, 0, 0],\n",
       "        [1, 0, 1],\n",
       "        [1, 1, 0],\n",
       "        [1, 1, 1],\n",
       "        [0, 1, 0],\n",
       "        [0, 1, 1],\n",
       "        [0, 0, 0],\n",
       "        [0, 0, 1],\n",
       "        [1, 1, 0],\n",
       "        [1, 1, 1],\n",
       "        [1, 0, 0],\n",
       "        [1, 0, 1],\n",
       "        [0, 0, 1],\n",
       "        [0, 0, 0],\n",
       "        [0, 1, 1],\n",
       "        [0, 1, 0],\n",
       "        [1, 0, 1],\n",
       "        [1, 0, 0],\n",
       "        [1, 1, 1],\n",
       "        [1, 1, 0],\n",
       "        [1, 0, 0],\n",
       "        [1, 0, 1],\n",
       "        [1, 1, 0],\n",
       "        [1, 1, 1],\n",
       "        [0, 0, 0],\n",
       "        [0, 0, 1],\n",
       "        [0, 1, 0],\n",
       "        [0, 1, 1],\n",
       "        [1, 1, 1],\n",
       "        [1, 1, 0],\n",
       "        [1, 0, 1],\n",
       "        [1, 0, 0],\n",
       "        [0, 1, 1],\n",
       "        [0, 1, 0],\n",
       "        [0, 0, 1],\n",
       "        [0, 0, 0]]),\n",
       " array([[0, 0, 0],\n",
       "        [0, 0, 1],\n",
       "        [0, 1, 0],\n",
       "        [0, 1, 1],\n",
       "        [1, 0, 0],\n",
       "        [1, 0, 1],\n",
       "        [1, 1, 0],\n",
       "        [1, 1, 1]]))"
      ]
     },
     "execution_count": 111,
     "metadata": {},
     "output_type": "execute_result"
    }
   ],
   "source": [
    "\n",
    "# Calculate the syndrome for each error pattern\n",
    "syndromes = np.dot(error_patterns, H.T) % 2\n",
    "\n",
    "# Present all unique syndromes\n",
    "unique_syndromes = np.unique(syndromes, axis=0)\n",
    "\n",
    "# Output\n",
    "syndromes, unique_syndromes\n"
   ]
  },
  {
   "cell_type": "code",
   "execution_count": 112,
   "metadata": {},
   "outputs": [
    {
     "data": {
      "text/plain": [
       "(128, 8)"
      ]
     },
     "execution_count": 112,
     "metadata": {},
     "output_type": "execute_result"
    }
   ],
   "source": [
    "# Count how many syndromes are there\n",
    "total_syndromes = syndromes.shape[0]\n",
    "\n",
    "# Count how many unique syndromes are there\n",
    "total_unique_syndromes = unique_syndromes.shape[0]\n",
    "\n",
    "total_syndromes, total_unique_syndromes"
   ]
  }
 ],
 "metadata": {
  "kernelspec": {
   "display_name": "cenv1",
   "language": "python",
   "name": "python3"
  },
  "language_info": {
   "codemirror_mode": {
    "name": "ipython",
    "version": 3
   },
   "file_extension": ".py",
   "mimetype": "text/x-python",
   "name": "python",
   "nbconvert_exporter": "python",
   "pygments_lexer": "ipython3",
   "version": "3.12.1"
  }
 },
 "nbformat": 4,
 "nbformat_minor": 2
}
