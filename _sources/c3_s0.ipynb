{
 "cells": [
  {
   "cell_type": "markdown",
   "metadata": {},
   "source": [
    "# Fundamentals of Estimation Theory"
   ]
  },
  {
   "cell_type": "markdown",
   "metadata": {},
   "source": [
    "Applications of estimation theory typically require obtaining an **estimate** either of \n",
    "* a specific parameter\n",
    "* a desired waveform.\n",
    "\n",
    "In **parameter estimation**, we consider two cases: \n",
    "* known distribution \n",
    "* unknown distributions\n",
    "of the observables.\n",
    "\n",
    "We also study properties of **estimators**, which characterize the performance and behavior of the estimates."
   ]
  },
  {
   "cell_type": "markdown",
   "metadata": {},
   "source": [
    "We will consider various estimation methods on estimating:\n",
    "* single deterministic parameter\n",
    "* vector deterministic parameters \n",
    "* random single parameter\n",
    "* random vector parameters\n",
    "In each of these cases, knowledge of specific distributions is presumed.\n",
    "\n",
    "Observables are used to produce an estimate of the parameters of interest"
   ]
  },
  {
   "cell_type": "markdown",
   "metadata": {},
   "source": [
    "An important question to resolve is: **How good is the estimate?**\n",
    "\n",
    "To answer the question of the quality of the estimate, it is important to understand properties associated with a good estimate, such as\n",
    "* unbiased\n",
    "* consistent\n",
    "* invariant\n",
    "* minimum variance\n",
    "* efficient"
   ]
  },
  {
   "cell_type": "markdown",
   "metadata": {},
   "source": [
    "## References\n",
    "\n",
    "The contents of the sections in this chapter are based on the following materials.\n",
    "\n",
    "* T. Schonhoff and A. Giordano, _Detection and Estimation Theory and its Applications_. Prentice Hall, 2006 , Chapter 10"
   ]
  }
 ],
 "metadata": {
  "kernelspec": {
   "display_name": "env1",
   "language": "python",
   "name": "python3"
  },
  "language_info": {
   "codemirror_mode": {
    "name": "ipython",
    "version": 3
   },
   "file_extension": ".py",
   "mimetype": "text/x-python",
   "name": "python",
   "nbconvert_exporter": "python",
   "pygments_lexer": "ipython3",
   "version": "3.12.3"
  }
 },
 "nbformat": 4,
 "nbformat_minor": 2
}
